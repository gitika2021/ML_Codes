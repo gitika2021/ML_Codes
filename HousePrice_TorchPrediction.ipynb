{
 "cells": [
  {
   "cell_type": "markdown",
   "id": "364c202a-0988-42d2-9265-7852cd32b469",
   "metadata": {},
   "source": [
    "# Machine Learning Regression Problem \n",
    "\n",
    "## Predicting Price of a House\n"
   ]
  },
  {
   "cell_type": "markdown",
   "id": "ca97f476-7ad6-44da-8a2a-89ab163c889c",
   "metadata": {},
   "source": []
  },
  {
   "cell_type": "markdown",
   "id": "4cb4419a-6edf-4d52-9cea-708f83ae2557",
   "metadata": {},
   "source": [
    "# Using Pytorch"
   ]
  },
  {
   "cell_type": "code",
   "execution_count": null,
   "id": "75a86759-cbac-4c2d-a8a3-29859edca3c7",
   "metadata": {},
   "outputs": [],
   "source": [
    "\"\"\"\n",
    "step 1. Pre-process:\n",
    "        Find the 'numeric' data and process (mean, std) the 'numeric' data\n",
    "        Complete the 'object' data without Nan\n",
    "\n",
    "step 2. Prepare dataset converting to the tensor type\n",
    "\n",
    "step 3. Create model\n",
    "\n",
    "step 4. Train model\n",
    "\n",
    "step 5. Predict the test.csv, meanwhile, upload the result.csv\n",
    "\"\"\""
   ]
  },
  {
   "cell_type": "code",
   "execution_count": 1,
   "id": "2c0b73fb-3266-4b0d-8b41-434f2d988ffe",
   "metadata": {},
   "outputs": [],
   "source": [
    "import torch.nn as nn\n",
    "import torch\n",
    "import os\n",
    "import numpy as np\n",
    "import pandas as pd\n",
    "import matplotlib.pyplot as plt\n",
    "from sklearn.metrics import mean_absolute_error\n",
    "import timeit"
   ]
  },
  {
   "cell_type": "code",
   "execution_count": 175,
   "id": "9b135913-a69e-428b-8629-4d3f564782d7",
   "metadata": {},
   "outputs": [
    {
     "name": "stdout",
     "output_type": "stream",
     "text": [
      "              Rooms         Price      Distance      Postcode      Bedroom2  \\\n",
      "count  34853.000000  2.724700e+04  34856.000000  34856.000000  26640.000000   \n",
      "mean       3.031045  1.050173e+06     11.184929   3116.062859      3.084647   \n",
      "std        0.969943  6.414671e+05      6.788892    109.023903      0.980690   \n",
      "min        1.000000  8.500000e+04      0.000000   3000.000000      0.000000   \n",
      "25%        2.000000  6.350000e+05      6.400000   3051.000000      2.000000   \n",
      "50%        3.000000  8.700000e+05     10.300000   3103.000000      3.000000   \n",
      "75%        4.000000  1.295000e+06     14.000000   3156.000000      4.000000   \n",
      "max       16.000000  1.120000e+07     48.100000   3978.000000     30.000000   \n",
      "\n",
      "           Bathroom           Car       Landsize  BuildingArea     YearBuilt  \\\n",
      "count  26631.000000  26129.000000   23047.000000   13742.00000  15551.000000   \n",
      "mean       1.624798      1.728845     593.598993     160.25640   1965.289885   \n",
      "std        0.724212      1.010771    3398.841946     401.26706     37.328178   \n",
      "min        0.000000      0.000000       0.000000       0.00000   1196.000000   \n",
      "25%        1.000000      1.000000     224.000000     102.00000   1940.000000   \n",
      "50%        2.000000      2.000000     521.000000     136.00000   1970.000000   \n",
      "75%        2.000000      2.000000     670.000000     188.00000   2000.000000   \n",
      "max       12.000000     26.000000  433014.000000   44515.00000   2106.000000   \n",
      "\n",
      "          Lattitude    Longtitude  Propertycount  \n",
      "count  26881.000000  26881.000000   34854.000000  \n",
      "mean     -37.810634    145.001851    7572.888306  \n",
      "std        0.090279      0.120169    4428.090313  \n",
      "min      -38.190430    144.423790      83.000000  \n",
      "25%      -37.862950    144.933500    4385.000000  \n",
      "50%      -37.807600    145.007800    6763.000000  \n",
      "75%      -37.754100    145.071900   10412.000000  \n",
      "max      -37.390200    145.526350   21650.000000  \n",
      "df_train shape: (34857, 21)\n",
      "df_test shape: (34857, 21)\n",
      "df_all_orig shape: (34857, 21)\n"
     ]
    }
   ],
   "source": [
    "#df_train = pd.read_csv(\"/kaggle/input/house-prices-advanced-regression-techniques/train.csv\")\n",
    "#df_test = pd.read_csv(\"/kaggle/input/house-prices-advanced-regression-techniques/test.csv\")\n",
    "melbourne_data =  pd.read_csv(\"/home/gitika/My_Home/Python_ML_CNN/Regression/Melbourne_housing_FULL_with_missing.csv\")\n",
    "print(melbourne_data.describe())\n",
    "\n"
   ]
  },
  {
   "cell_type": "code",
   "execution_count": 223,
   "id": "566bbc6b-c989-481f-993d-33464da3fe3f",
   "metadata": {},
   "outputs": [
    {
     "name": "stdout",
     "output_type": "stream",
     "text": [
      "Index(['Suburb', 'Address', 'Rooms', 'Type', 'Price', 'Method', 'SellerG',\n",
      "       'Date', 'Distance', 'Postcode', 'Bedroom2', 'Bathroom', 'Car',\n",
      "       'Landsize', 'BuildingArea', 'YearBuilt', 'CouncilArea', 'Lattitude',\n",
      "       'Longtitude', 'Regionname', 'Propertycount'],\n",
      "      dtype='object')\n",
      "7837      730000.0\n",
      "18042    1705000.0\n",
      "4834           NaN\n",
      "31707     723000.0\n",
      "28747          NaN\n",
      "           ...    \n",
      "10201    1211000.0\n",
      "9372     2667000.0\n",
      "28017     670000.0\n",
      "29199    1200000.0\n",
      "17673     850000.0\n",
      "Name: Price, Length: 20914, dtype: float64\n"
     ]
    }
   ],
   "source": [
    "from sklearn.model_selection import train_test_split\n",
    "\n",
    "print(melbourne_data.columns)\n",
    "y = melbourne_data.Price\n",
    "X = melbourne_data.drop('Price',axis=1)\n",
    "\n",
    "#Split the data into training set and testing set and then use created csv files\n",
    "df_train_X, df_test_X, df_train_y, df_test_y = train_test_split(X, y, train_size=0.6,random_state=10)\n",
    "\n",
    "df_train = pd.concat([df_train_X,df_train_y],axis=1)\n",
    "df_test = pd.concat([df_test_X,df_test_y],axis=1)\n",
    "\n",
    "df_train.to_csv(\"./Melbourne_housing_FULL_train.csv\", columns=df_train.columns, index=False)\n",
    "df_test.to_csv(\"./Melbourne_housing_FULL_test.csv\", columns=df_test.columns, index=False)"
   ]
  },
  {
   "cell_type": "code",
   "execution_count": 3,
   "id": "f567808e-18a1-4b83-a562-0262c11b3850",
   "metadata": {},
   "outputs": [
    {
     "name": "stdout",
     "output_type": "stream",
     "text": [
      "df_train shape: (20914, 21)\n",
      "df_test shape: (13943, 21)\n",
      "df_all shape: (34857, 21)\n"
     ]
    }
   ],
   "source": [
    "df_train = pd.read_csv(\"Melbourne_housing_FULL_train.csv\")\n",
    "df_test = pd.read_csv(\"Melbourne_housing_FULL_test.csv\")\n",
    "#print(df_train.describe())\n",
    "print(\"df_train shape:\", df_train.shape)\n",
    "print(\"df_test shape:\", df_test.shape)\n",
    "means = df_train[\"Price\"].mean()\n",
    "maxs = df_train[\"Price\"].max()\n",
    "mins = df_train[\"Price\"].min()\n",
    "\n",
    "df_all = pd.concat([df_train, df_test], axis=0)\n",
    "print(\"df_all shape:\",df_all.shape)\n"
   ]
  },
  {
   "cell_type": "code",
   "execution_count": 7,
   "id": "b9cd815a-3088-4984-996c-4d3279dc7b79",
   "metadata": {},
   "outputs": [
    {
     "name": "stdout",
     "output_type": "stream",
     "text": [
      "Start time (t_0): 53356.237989475\n",
      "the lable name: Propertycount\n",
      "the shape of numeric dtype indexs: (11,)\n",
      "the shape of object dtype indexs: (8,)\n",
      "the shape of preprocessed train data: (34857, 34898)\n",
      "the linear input size is 34898\n",
      "the shape of label (20914,)\n",
      "20914 (34857, 34898)\n",
      "Elapsed time (t_f): 2.1621568920018035\n"
     ]
    }
   ],
   "source": [
    "### step 1 \n",
    "# ！object\n",
    "\n",
    "t_0 = timeit.default_timer()\n",
    "print('Start time (t_0):',t_0)\n",
    "\n",
    "\n",
    "numeric_features_index = df_all.dtypes[df_all.dtypes != 'object'].index\n",
    "label_features_index = numeric_features_index[-1]\n",
    "numeric_features_index = numeric_features_index[:-1]\n",
    "df_all = df_all.drop(label_features_index, axis=1)\n",
    "\n",
    "object_feature_index = df_all.dtypes[df_all.dtypes == 'object'].index\n",
    "\n",
    "print(\"the lable name:\", label_features_index)\n",
    "print(\"the shape of numeric dtype indexs:\",numeric_features_index.shape)\n",
    "print(\"the shape of object dtype indexs:\",object_feature_index.shape)\n",
    "\n",
    "df_all[numeric_features_index] = df_all[numeric_features_index].apply(\n",
    "    lambda x: (x - x.mean()) / (x.std()))\n",
    "\n",
    "df_all[numeric_features_index] = df_all[numeric_features_index].fillna(0)\n",
    "\n",
    "if np.all(df_all[numeric_features_index].isnull()):\n",
    "    print(\"still survive the null\")\n",
    "    \n",
    "\n",
    "\n",
    "# # object\n",
    "new_all = pd.get_dummies(df_all, dummy_na=True)\n",
    "print(\"the shape of preprocessed train data:\",new_all.shape)\n",
    "if np.all(new_all.isnull()):\n",
    "    print(\"still survive the null\")\n",
    "    \n",
    "input_size = new_all.shape[1]\n",
    "print(f\"the linear input size is {input_size}\")\n",
    "label_train = df_train[label_features_index]\n",
    "print(\"the shape of label\" ,label_train.shape)\n",
    "\n",
    "\n",
    "t_f = timeit.default_timer() - t_0\n",
    "print('Elapsed time (t_f):',t_f)\n",
    "\n",
    "print(df_train.shape, new_all.shape)\n",
    "print(df_train.shape[0], new_all[:20914])"
   ]
  },
  {
   "cell_type": "markdown",
   "id": "a68f8b65-a013-4bc6-a565-5101e47fbb33",
   "metadata": {},
   "source": [
    "**train: data(79) + label(1), total 80 columns**\n",
    "\n",
    "**test: data(79) + label(1) but the lable is Nan**"
   ]
  },
  {
   "cell_type": "code",
   "execution_count": null,
   "id": "757f87d4-5ec9-4c3d-9bbf-196f8d2ce956",
   "metadata": {},
   "outputs": [],
   "source": [
    "# step 2\n",
    "num_train = df_train.shape[0]\n",
    "\n",
    "train_features = torch.tensor((new_all[:num_train].values), dtype=torch.float32)\n",
    "\n",
    "train_labels = torch.tensor(label_train.values.reshape(-1,1), \n",
    "                            dtype=torch.float32)\n",
    "\n",
    "train_labels = (train_labels - means) / (maxs - mins)\n",
    "\n",
    "dataset = torch.utils.data.TensorDataset(train_features,train_labels)\n",
    "\n",
    "temp_num = int(len(dataset) * 0.95)\n",
    "train_dataset, val_dataset = torch.utils.data.random_split(dataset, [temp_num, len(dataset) - temp_num])\n",
    "print(\"the train dataset has \",len(train_dataset))\n",
    "print(\"the val dataset has \",len(val_dataset))\n",
    "\n",
    "train_dataloader = torch.utils.data.DataLoader(train_dataset, batch_size = 32)"
   ]
  },
  {
   "cell_type": "code",
   "execution_count": 185,
   "id": "981a4032-8a58-4dad-90c3-fb01f838114c",
   "metadata": {},
   "outputs": [
    {
     "name": "stdout",
     "output_type": "stream",
     "text": [
      "label_features_index:  Price\n",
      "the lable name: Price\n",
      "the shape of numeric dtype indexs: (12,)\n",
      "the shape of object dtype indexs: (8,)\n",
      "df_all[['Rooms','Distance']] old    Rooms  Distance\n",
      "0    NaN       2.5\n",
      "1    NaN       2.5\n",
      "2    2.0       2.5\n",
      "3    NaN       2.5\n",
      "4    3.0       2.5\n",
      "5    3.0       2.5\n",
      "df_all[['Rooms','Distance']] new       Rooms  Distance\n",
      "0  0.000000 -1.279285\n",
      "1  0.000000 -1.279285\n",
      "2 -1.062995 -1.279285\n",
      "3  0.000000 -1.279285\n",
      "4 -0.032007 -1.279285\n",
      "5 -0.032007 -1.279285\n",
      "the shape of preprocessed train data: (34857, 34899)\n",
      "the linear input size is 34899\n",
      "the shape of label (34857,)\n"
     ]
    },
    {
     "data": {
      "text/plain": [
       "'\\n'"
      ]
     },
     "execution_count": 185,
     "metadata": {},
     "output_type": "execute_result"
    }
   ],
   "source": [
    "### step 1 \n",
    "# ！object\n",
    "#Here label_features_index is the target feature\n",
    "\n",
    "label_features_index = numeric_features_index_orig[1]\n",
    "print(\"label_features_index: \",label_features_index)\n",
    "\n",
    "df_all = df_all_orig.drop(label_features_index, axis=1)\n",
    "\n",
    "numeric_features_index = df_all.dtypes[df_all.dtypes != 'object'].index\n",
    "object_feature_index = df_all.dtypes[df_all.dtypes == 'object'].index\n",
    "\n",
    "print(\"the lable name:\", label_features_index)\n",
    "print(\"the shape of numeric dtype indexs:\",numeric_features_index.shape)\n",
    "print(\"the shape of object dtype indexs:\",object_feature_index.shape)\n",
    "\n",
    "print(\"df_all[['Rooms','Distance']] old\",df_all[['Rooms','Distance']][0:6])\n",
    "\n",
    "df_all[numeric_features_index] = df_all[numeric_features_index].apply(lambda x: (x - x.mean()) / (x.std()))\n",
    "df_all[numeric_features_index] = df_all[numeric_features_index].fillna(0)\n",
    "\n",
    "\"\"\"\n",
    "from sklearn.impute import SimpleImputer\n",
    "my_imputer = SimpleImputer()\n",
    "df_all[numeric_features_index] = pd.DataFrame(my_imputer.fit_transform(df_all[numeric_features_index]))\n",
    "\"\"\"\n",
    "print(\"df_all[['Rooms','Distance']] new\",df_all[['Rooms','Distance']][0:6])\n",
    "\n",
    "if np.all(df_all[numeric_features_index].isnull()):\n",
    "    print(\"still survive the null\")\n",
    "    \n",
    "\n",
    "\n",
    "# # object\n",
    "new_all = pd.get_dummies(df_all, dummy_na=True)\n",
    "print(\"the shape of preprocessed train data:\",new_all.shape)\n",
    "if np.all(new_all.isnull()):\n",
    "    print(\"still survive the null\")\n",
    "    \n",
    "input_size = new_all.shape[1]\n",
    "print(f\"the linear input size is {input_size}\")\n",
    "label_train = df_train[label_features_index]\n",
    "print(\"the shape of label\" ,label_train.shape)\n"
   ]
  },
  {
   "cell_type": "code",
   "execution_count": 189,
   "id": "fa83de90-b479-45d3-a6e3-a83d2ac028fa",
   "metadata": {},
   "outputs": [],
   "source": []
  },
  {
   "cell_type": "code",
   "execution_count": 121,
   "id": "a132d5a4-3c9c-46e2-b7a4-b2a751bddcb3",
   "metadata": {},
   "outputs": [
    {
     "name": "stdout",
     "output_type": "stream",
     "text": [
      "0    3.125\n",
      "dtype: float64 0    2.03101\n",
      "dtype: float64\n"
     ]
    }
   ],
   "source": [
    "a = pd.DataFrame([2.0,3.0,3.0,3.0,2.0,2.0,2.0,8.0])\n",
    "print(a.mean(),a.std())\n",
    "x = a.apply(lambda x: (x - x.mean()) / (x.std()))\n"
   ]
  },
  {
   "cell_type": "code",
   "execution_count": null,
   "id": "1205e58c-2aa6-4284-94df-75004c09cb46",
   "metadata": {},
   "outputs": [],
   "source": [
    "# step 2\n",
    "num_train = df_train.shape[0]\n",
    "\n",
    "train_features = torch.tensor((new_all[:num_train].values), dtype=torch.float32)\n",
    "\n",
    "train_labels = torch.tensor(label_train.values.reshape(-1,1), \n",
    "                            dtype=torch.float32)\n",
    "\n",
    "train_labels = (train_labels - means) / (maxs - mins)\n",
    "\n",
    "dataset = torch.utils.data.TensorDataset(train_features,train_labels)\n",
    "\n",
    "temp_num = int(len(dataset) * 0.95)\n",
    "train_dataset, val_dataset = torch.utils.data.random_split(dataset, [temp_num, len(dataset) - temp_num])\n",
    "print(\"the train dataset has \",len(train_dataset))\n",
    "print(\"the val dataset has \",len(val_dataset))\n",
    "\n",
    "train_dataloader = torch.utils.data.DataLoader(train_dataset, batch_size = 32)"
   ]
  },
  {
   "cell_type": "code",
   "execution_count": null,
   "id": "71422d6e-d15d-4ee1-bc01-41a68ac0ccf0",
   "metadata": {},
   "outputs": [],
   "source": [
    "# step 3\n",
    "device = torch.device(\"cuda\" if torch.cuda.is_available() else \"cpu\")\n",
    "\n",
    "class HousePricesPredict(nn.Module):\n",
    "    def __init__(self, input_channels):\n",
    "        super(HousePricesPredict, self).__init__()\n",
    "        \n",
    "        self.classifier = nn.Sequential(\n",
    "            nn.Linear(input_channels, 1024),\n",
    "            nn.Tanh(),\n",
    "            nn.Linear(1024, 4096),\n",
    "            nn.Tanh(),\n",
    "            nn.Linear(4096, 4096),\n",
    "            nn.Tanh(),\n",
    "            nn.Linear(4096, 1024),\n",
    "            nn.Tanh(),\n",
    "            nn.Linear(1024, 1024),\n",
    "            nn.Tanh(),\n",
    "            nn.Linear(1024, 1),\n",
    "        )\n",
    "\n",
    "    def forward(self, x):\n",
    "        x = self.classifier(x)\n",
    "        return x\n",
    "\n",
    "model = HousePricesPredict(input_size)\n",
    "model = model.to(device)\n",
    "print(model)\n",
    "    "
   ]
  },
  {
   "cell_type": "code",
   "execution_count": null,
   "id": "09091df8-0332-4d51-8e3b-7d069ec43e56",
   "metadata": {},
   "outputs": [],
   "source": [
    "# step 4\n",
    "loss_fn = nn.MSELoss()\n",
    "# 1e-1\n",
    "optimizer = torch.optim.SGD(model.parameters(), lr=1e-2)\n",
    "train_loss_all = []\n",
    "# 300\n",
    "for epoch in range(100):\n",
    "    train_loss = 0\n",
    "    train_num = 0\n",
    "    for step,(X, y) in enumerate(train_dataloader):\n",
    "        X, y = X.to(device), y.to(device)\n",
    "#         print(X)\n",
    "#         print(y)\n",
    "        output = model(X)\n",
    "#         print(output)\n",
    "        loss = loss_fn(output, y)\n",
    "        optimizer.zero_grad()\n",
    "        loss.backward()\n",
    "        optimizer.step()\n",
    "        train_loss += loss.item() * X.size(0)\n",
    "        train_num += X.size(0)\n",
    "#         print(train_loss)\n",
    "    train_loss_all.append(train_loss / train_num)\n",
    "# print(train_loss_all)"
   ]
  },
  {
   "cell_type": "code",
   "execution_count": null,
   "id": "9b6d1ec0-711e-449c-93e3-ee3474937d25",
   "metadata": {},
   "outputs": [],
   "source": [
    "plt.figure(figsize=(10,6))\n",
    "plt.plot(train_loss_all, \"ro-\", label=\"Train loss\")\n",
    "plt.legend()\n",
    "plt.grid()\n",
    "plt.xlabel(\"epoch\")\n",
    "plt.ylabel(\"loss\")\n",
    "\n",
    "plt.show()"
   ]
  },
  {
   "cell_type": "code",
   "execution_count": null,
   "id": "36167743-2d1f-4215-ae5f-66a6d85d97d6",
   "metadata": {},
   "outputs": [],
   "source": [
    "length = len(val_dataset)\n",
    "mae = 0.0\n",
    "for step,(X, y) in enumerate(val_dataset):\n",
    "    X, y = X.to(device), y.to(device)\n",
    "    output = model(X)\n",
    "    output = output.cpu().data.numpy()\n",
    "    y = y.cpu().data.numpy()\n",
    "    mae += mean_absolute_error(output, y)\n",
    "print(mae / length)"
   ]
  },
  {
   "cell_type": "code",
   "execution_count": null,
   "id": "1505df2c-b155-44c4-99e3-7795ac2e747e",
   "metadata": {},
   "outputs": [],
   "source": [
    "test_dataset = torch.tensor((new_all[num_train:].values), dtype=torch.float32)\n",
    "# print(test_dataset[0])\n",
    "test_dataset = test_dataset.to(device)\n",
    "# for index, X in enumerate(test_dataset):\n",
    "output = model(test_dataset).to(device)\n",
    "# print(output)\n",
    "result = pd.DataFrame(output.cpu().data.numpy(), columns=['SalePrice'])\n",
    "\n",
    "if np.any(result):\n",
    "    result['SalePrice'] = result['SalePrice'].fillna(0)\n",
    "\n",
    "result['SalePrice'] = result['SalePrice'] * (maxs - mins) + means\n",
    "result['Id'] = np.array(result.index)\n",
    "result['Id'] = result['Id'] + 1461\n",
    "result = pd.DataFrame(result, columns=['Id', 'SalePrice'])\n",
    "result"
   ]
  },
  {
   "cell_type": "code",
   "execution_count": null,
   "id": "2497f226-ccbe-4fb0-9cc6-4aa1bc340d2e",
   "metadata": {},
   "outputs": [],
   "source": [
    "result.to_csv(\"./result.csv\", columns=['Id', 'SalePrice'], index=False)"
   ]
  },
  {
   "cell_type": "markdown",
   "id": "b6d54f94-f2db-4fbf-ab83-080abc6180a5",
   "metadata": {},
   "source": [
    "# END of Code"
   ]
  },
  {
   "cell_type": "code",
   "execution_count": null,
   "id": "0d3f9abb-f65a-4a86-b3b4-6712d724c31d",
   "metadata": {},
   "outputs": [],
   "source": []
  },
  {
   "cell_type": "code",
   "execution_count": null,
   "id": "72903ffd-95ab-4c92-aa69-dc71f3433157",
   "metadata": {},
   "outputs": [],
   "source": []
  }
 ],
 "metadata": {
  "kernelspec": {
   "display_name": "Python [conda env:base] *",
   "language": "python",
   "name": "conda-base-py"
  },
  "language_info": {
   "codemirror_mode": {
    "name": "ipython",
    "version": 3
   },
   "file_extension": ".py",
   "mimetype": "text/x-python",
   "name": "python",
   "nbconvert_exporter": "python",
   "pygments_lexer": "ipython3",
   "version": "3.12.7"
  }
 },
 "nbformat": 4,
 "nbformat_minor": 5
}
