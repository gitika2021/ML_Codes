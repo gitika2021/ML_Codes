{
 "cells": [
  {
   "cell_type": "markdown",
   "id": "364c202a-0988-42d2-9265-7852cd32b469",
   "metadata": {},
   "source": [
    "# Machine Learning Regression Problem \n",
    "\n",
    "## Predicting Price of a House\n"
   ]
  },
  {
   "cell_type": "markdown",
   "id": "ca97f476-7ad6-44da-8a2a-89ab163c889c",
   "metadata": {},
   "source": []
  },
  {
   "cell_type": "markdown",
   "id": "4cb4419a-6edf-4d52-9cea-708f83ae2557",
   "metadata": {},
   "source": [
    "# Using Pytorch"
   ]
  },
  {
   "cell_type": "code",
   "execution_count": null,
   "id": "75a86759-cbac-4c2d-a8a3-29859edca3c7",
   "metadata": {},
   "outputs": [],
   "source": [
    "\"\"\"\n",
    "step 1. Pre-process:\n",
    "        Find the 'numeric' data and process (mean, std) the 'numeric' data\n",
    "        Complete the 'object' data without Nan\n",
    "\n",
    "step 2. Prepare dataset converting to the tensor type\n",
    "\n",
    "step 3. Create model\n",
    "\n",
    "step 4. Train model\n",
    "\n",
    "step 5. Predict the test.csv, meanwhile, upload the result.csv\n",
    "\"\"\""
   ]
  },
  {
   "cell_type": "code",
   "execution_count": 1,
   "id": "2c0b73fb-3266-4b0d-8b41-434f2d988ffe",
   "metadata": {},
   "outputs": [],
   "source": [
    "import torch.nn as nn\n",
    "import torch\n",
    "import os\n",
    "import numpy as np\n",
    "import pandas as pd\n",
    "import matplotlib.pyplot as plt\n",
    "from sklearn.metrics import mean_absolute_error\n",
    "from sklearn.model_selection import train_test_split\n",
    "import time"
   ]
  },
  {
   "cell_type": "code",
   "execution_count": 114,
   "id": "9b135913-a69e-428b-8629-4d3f564782d7",
   "metadata": {},
   "outputs": [
    {
     "name": "stdout",
     "output_type": "stream",
     "text": [
      "              Rooms         Price      Distance      Postcode      Bedroom2  \\\n",
      "count  34857.000000  2.724700e+04  34856.000000  34856.000000  26640.000000   \n",
      "mean       3.031012  1.050173e+06     11.184929   3116.062859      3.084647   \n",
      "std        0.969933  6.414671e+05      6.788892    109.023903      0.980690   \n",
      "min        1.000000  8.500000e+04      0.000000   3000.000000      0.000000   \n",
      "25%        2.000000  6.350000e+05      6.400000   3051.000000      2.000000   \n",
      "50%        3.000000  8.700000e+05     10.300000   3103.000000      3.000000   \n",
      "75%        4.000000  1.295000e+06     14.000000   3156.000000      4.000000   \n",
      "max       16.000000  1.120000e+07     48.100000   3978.000000     30.000000   \n",
      "\n",
      "           Bathroom           Car       Landsize  BuildingArea     YearBuilt  \\\n",
      "count  26631.000000  26129.000000   23047.000000   13742.00000  15551.000000   \n",
      "mean       1.624798      1.728845     593.598993     160.25640   1965.289885   \n",
      "std        0.724212      1.010771    3398.841946     401.26706     37.328178   \n",
      "min        0.000000      0.000000       0.000000       0.00000   1196.000000   \n",
      "25%        1.000000      1.000000     224.000000     102.00000   1940.000000   \n",
      "50%        2.000000      2.000000     521.000000     136.00000   1970.000000   \n",
      "75%        2.000000      2.000000     670.000000     188.00000   2000.000000   \n",
      "max       12.000000     26.000000  433014.000000   44515.00000   2106.000000   \n",
      "\n",
      "          Lattitude    Longtitude  Propertycount  \n",
      "count  26881.000000  26881.000000   34854.000000  \n",
      "mean     -37.810634    145.001851    7572.888306  \n",
      "std        0.090279      0.120169    4428.090313  \n",
      "min      -38.190430    144.423790      83.000000  \n",
      "25%      -37.862950    144.933500    4385.000000  \n",
      "50%      -37.807600    145.007800    6763.000000  \n",
      "75%      -37.754100    145.071900   10412.000000  \n",
      "max      -37.390200    145.526350   21650.000000  \n"
     ]
    }
   ],
   "source": [
    "#df_train = pd.read_csv(\"/kaggle/input/house-prices-advanced-regression-techniques/train.csv\")\n",
    "#df_test = pd.read_csv(\"/kaggle/input/house-prices-advanced-regression-techniques/test.csv\")\n",
    "data_path =\"/home/gitika/My_Home/Python_ML_CNN/ML_Data/\"\n",
    "save_fig_path = \"/home/gitika/My_Home/Python_ML_CNN/ML_Figures/\"\n",
    "importfile = data_path+\"Melbourne_housing_FULL.csv\" \n",
    "\n",
    "melbourne_data =  pd.read_csv(importfile)\n",
    "print(melbourne_data.describe())\n",
    "\n"
   ]
  },
  {
   "cell_type": "code",
   "execution_count": 6,
   "id": "566bbc6b-c989-481f-993d-33464da3fe3f",
   "metadata": {},
   "outputs": [
    {
     "name": "stdout",
     "output_type": "stream",
     "text": [
      "Index(['Suburb', 'Address', 'Rooms', 'Type', 'Price', 'Method', 'SellerG',\n",
      "       'Date', 'Distance', 'Postcode', 'Bedroom2', 'Bathroom', 'Car',\n",
      "       'Landsize', 'BuildingArea', 'YearBuilt', 'CouncilArea', 'Lattitude',\n",
      "       'Longtitude', 'Regionname', 'Propertycount'],\n",
      "      dtype='object')\n"
     ]
    }
   ],
   "source": [
    "from sklearn.model_selection import train_test_split\n",
    "\n",
    "print(melbourne_data.columns)\n",
    "y = melbourne_data.Price\n",
    "X = melbourne_data.drop('Price',axis=1)\n",
    "\n",
    "#Split the data into training set and testing set and then use created csv files\n",
    "df_train_X, df_test_X, df_train_y, df_test_y = train_test_split(X, y, train_size=0.6,random_state=10)\n",
    "\n",
    "df_train = pd.concat([df_train_X,df_train_y],axis=1)\n",
    "df_test = pd.concat([df_test_X,df_test_y],axis=1)\n",
    "df_all_new = pd.concat([X,y],axis=1)\n",
    "\n",
    "#df_train.to_csv(\"./Melbourne_housing_FULL_train.csv\", columns=df_train.columns, index=False)\n",
    "#df_test.to_csv(\"./Melbourne_housing_FULL_test.csv\", columns=df_test.columns, index=False)\n",
    "df_all_new.to_csv(data_path+\"Melbourne_housing_FULL_updated.csv\", columns=df_test.columns, index=False)"
   ]
  },
  {
   "cell_type": "code",
   "execution_count": 122,
   "id": "f567808e-18a1-4b83-a562-0262c11b3850",
   "metadata": {},
   "outputs": [
    {
     "name": "stdout",
     "output_type": "stream",
     "text": [
      "df_all shape: (2000, 21)\n",
      "        Suburb          Address     Rooms Type Method SellerG       Date  \\\n",
      "2   Abbotsford  25 Bloomburg St -0.988056    h      S  Biggin  4/02/2016   \n",
      "4   Abbotsford     5 Charles St  0.027418    h     SP  Biggin  4/03/2017   \n",
      "6   Abbotsford      55a Park St  1.042892    h     VB  Nelson  4/06/2016   \n",
      "11  Abbotsford     124 Yarra St  0.027418    h      S  Nelson  7/05/2016   \n",
      "14  Abbotsford    98 Charles St -0.988056    h      S  Nelson  8/10/2016   \n",
      "\n",
      "    Distance  Postcode  Bedroom2  ...       Car  Landsize  BuildingArea  \\\n",
      "2  -1.896703 -0.594227 -0.957299  ... -1.750238 -0.658562     -0.615723   \n",
      "4  -1.896703 -0.594227  0.074829  ... -1.750238 -0.713770      0.000239   \n",
      "6  -1.896703 -0.594227  0.074829  ...  0.472286 -0.748902     -0.069166   \n",
      "11 -1.896703 -0.594227  1.106957  ... -1.750238 -0.435222      0.520769   \n",
      "14 -1.896703 -0.594227 -0.957299  ...  0.472286 -0.407618     -0.372808   \n",
      "\n",
      "    YearBuilt         CouncilArea Lattitude  Longtitude  \\\n",
      "2   -1.623164  Yarra City Council  0.136086   -0.064108   \n",
      "4   -1.623164  Yarra City Council  0.114531   -0.050541   \n",
      "6    1.440652  Yarra City Council  0.146863   -0.054611   \n",
      "11  -1.354408  Yarra City Council  0.220764    0.015938   \n",
      "14  -1.891919  Yarra City Council  0.165338   -0.036974   \n",
      "\n",
      "               Regionname Propertycount     Price  \n",
      "2   Northern Metropolitan     -1.013993 -0.203861  \n",
      "4   Northern Metropolitan     -1.013993  0.389118  \n",
      "6   Northern Metropolitan     -1.013993  0.575286  \n",
      "11  Northern Metropolitan     -1.013993  0.955896  \n",
      "14  Northern Metropolitan     -1.013993  0.624931  \n",
      "\n",
      "[5 rows x 21 columns]\n"
     ]
    }
   ],
   "source": [
    "df_all_orig = pd.read_csv(data_path+\"Melbourne_housing_FULL_updated.csv\")\n",
    "df_all_orig=df_all_orig.dropna(axis=0)\n",
    "df_all_orig =df_all_orig[:2000]\n",
    "\n",
    "#print(df_all.describe())\n",
    "print(\"df_all shape:\", df_all_orig.shape)\n",
    "target_feature = \"Price\"\n",
    "\n",
    "means = df_all_orig[target_feature].mean()\n",
    "maxs = df_all_orig[target_feature].max()\n",
    "mins = df_all_orig[target_feature].min()\n",
    "\n",
    "numeric_features_index_old = df_all_orig.dtypes[df_all_orig.dtypes != 'object'].index\n",
    "\n",
    "#normalize the data set\n",
    "df_all_orig[numeric_features_index_old] = df_all_orig[numeric_features_index_old].apply(lambda x: (x - x.mean()) / (x.std()))\n",
    "\n",
    "#Note that in target feature values empty values are not replaced by 0. But target feature column is normalized \n",
    "target_feature_val = df_all_orig[target_feature] \n",
    "\n",
    "#replace the empty values by 0\n",
    "df_all_orig[numeric_features_index_old] = df_all_orig[numeric_features_index_old].fillna(0)\n",
    "print(df_all_orig.head())\n",
    "\n",
    "label_features_index = numeric_features_index_old[-1]\n",
    "object_feature_index = df_all_orig.dtypes[df_all_orig.dtypes == 'object'].index\n"
   ]
  },
  {
   "cell_type": "code",
   "execution_count": 124,
   "id": "b4e8019d-026b-4cac-8160-44362578128e",
   "metadata": {},
   "outputs": [
    {
     "name": "stdout",
     "output_type": "stream",
     "text": [
      "the linear input size is 12\n"
     ]
    }
   ],
   "source": [
    "#remove the target feature column \n",
    "new_all = df_all_orig.drop(label_features_index,axis=1)\n",
    "\n",
    "#Include the following line if subjective features are to be added as columns also by using dummies\n",
    "#new_all = pd.get_dummies(df_all, dummy_na=False)\n",
    "#print(\"the shape of preprocessed train data:\",new_all.shape)\n",
    "\n",
    "#remove other subjective columns if they are not midified by dummy values\n",
    "new_all = new_all.drop(object_feature_index,axis=1)\n",
    "\n",
    "input_feature_size = new_all.shape[1] # number of input features used for training\n",
    "print(f\"the linear input size is {input_feature_size}\")\n",
    "#inp_feature_index = new_all.dtypes[new_all.dtypes != 'object'].index\n"
   ]
  },
  {
   "cell_type": "code",
   "execution_count": 126,
   "id": "757f87d4-5ec9-4c3d-9bbf-196f8d2ce956",
   "metadata": {},
   "outputs": [
    {
     "name": "stdout",
     "output_type": "stream",
     "text": [
      "the train dataset has  1600\n",
      "the val dataset has  400\n"
     ]
    }
   ],
   "source": [
    "#convert the input training data into pytorch tensor format\n",
    "\n",
    "X_data = new_all # this data has features over which training is based\n",
    "y_data = target_feature_val #this data is normalized \n",
    "\n",
    "train_features = torch.tensor((X_data.values), dtype=torch.float32) #input training data rows only values\n",
    "\n",
    "train_labels = torch.tensor((y_data.values.reshape(-1,1)), dtype=torch.float32) #target feature values as column vector\n",
    "\n",
    "#combine features and labels into a single dataset object for easier handling during model training. \n",
    "#E.g train_features[0] with train_labels[0]\n",
    "dataset = torch.utils.data.TensorDataset(train_features,train_labels)\n",
    "\n",
    "\n",
    "#training data set is split into 80% training and 20 % validation data sets\n",
    "temp_num = int(len(dataset) * 0.80)\n",
    "train_dataset, val_dataset = torch.utils.data.random_split(dataset, [temp_num, len(dataset) - temp_num])\n",
    "\n",
    "print(\"the train dataset has \",len(train_dataset))\n",
    "print(\"the val dataset has \",len(val_dataset))\n",
    "\n",
    "train_dataloader = torch.utils.data.DataLoader(train_dataset, batch_size = 32)"
   ]
  },
  {
   "cell_type": "code",
   "execution_count": 128,
   "id": "71422d6e-d15d-4ee1-bc01-41a68ac0ccf0",
   "metadata": {},
   "outputs": [],
   "source": [
    "# step 3\n",
    "class HousePricesPredict(nn.Module):\n",
    "    def __init__(self, input_channels):\n",
    "        super(HousePricesPredict, self).__init__()\n",
    "        \n",
    "        self.classifier = nn.Sequential(\n",
    "            nn.Linear(input_channels, 1024),\n",
    "            nn.Tanh(),\n",
    "            nn.Linear(1024, 4096),\n",
    "            nn.Tanh(),\n",
    "            nn.Linear(4096, 4096),\n",
    "            nn.Tanh(),\n",
    "            nn.Linear(4096, 1024),\n",
    "            nn.Tanh(),\n",
    "            nn.Linear(1024, 1024),\n",
    "            nn.Tanh(),\n",
    "            nn.Linear(1024, 1),\n",
    "        )\n",
    "\n",
    "    def forward(self, x):\n",
    "        x = self.classifier(x)\n",
    "        return x\n"
   ]
  },
  {
   "cell_type": "code",
   "execution_count": 130,
   "id": "e8adfaf7-8d95-4632-ba59-862840a663bc",
   "metadata": {},
   "outputs": [
    {
     "data": {
      "text/plain": [
       "HousePricesPredict(\n",
       "  (classifier): Sequential(\n",
       "    (0): Linear(in_features=12, out_features=1024, bias=True)\n",
       "    (1): Tanh()\n",
       "    (2): Linear(in_features=1024, out_features=4096, bias=True)\n",
       "    (3): Tanh()\n",
       "    (4): Linear(in_features=4096, out_features=4096, bias=True)\n",
       "    (5): Tanh()\n",
       "    (6): Linear(in_features=4096, out_features=1024, bias=True)\n",
       "    (7): Tanh()\n",
       "    (8): Linear(in_features=1024, out_features=1024, bias=True)\n",
       "    (9): Tanh()\n",
       "    (10): Linear(in_features=1024, out_features=1, bias=True)\n",
       "  )\n",
       ")"
      ]
     },
     "execution_count": 130,
     "metadata": {},
     "output_type": "execute_result"
    }
   ],
   "source": [
    "torch.manual_seed(41)\n",
    "model = HousePricesPredict(input_feature_size)\n",
    "model\n",
    "    "
   ]
  },
  {
   "cell_type": "code",
   "execution_count": 132,
   "id": "09091df8-0332-4d51-8e3b-7d069ec43e56",
   "metadata": {},
   "outputs": [
    {
     "name": "stdout",
     "output_type": "stream",
     "text": [
      "Training Took: 13.391191681226095 minutes!\n"
     ]
    }
   ],
   "source": [
    "start_time = time.time()\n",
    "torch.manual_seed(41)\n",
    "model = HousePricesPredict(input_feature_size)\n",
    "#model\n",
    "\n",
    "# step 4\n",
    "loss_fn = nn.MSELoss()\n",
    "# 1e-1\n",
    "optimizer = torch.optim.SGD(model.parameters(), lr=1e-2)\n",
    "train_loss_all = []\n",
    "test_losses = []\n",
    "# 300\n",
    "epoch = 100\n",
    "for epoch in range(epoch):\n",
    "    train_loss = 0\n",
    "    train_num = 0\n",
    "    test_los = 0\n",
    "    test_num = 0\n",
    "    mae = 0\n",
    "    for step,(X, y) in enumerate(train_dataloader):\n",
    "        #X, y = X.to(device), y.to(device)\n",
    "        #print(X,X.size(0),y)\n",
    "        #print(y)\n",
    "        output = model(X)\n",
    "        loss = loss_fn(output, y)\n",
    "        #print(\"output,y\",output,y)\n",
    "        \n",
    "        \n",
    "        optimizer.zero_grad()\n",
    "        loss.backward()\n",
    "        optimizer.step()\n",
    "        train_loss += loss.item() * X.size(0) #total error for one batch as loss is mean value for full batch\n",
    "        train_num += X.size(0)\n",
    "        #print(train_loss)\n",
    "        #a = iedbf\n",
    "    train_loss_all.append(train_loss / train_num)\n",
    "    with torch.no_grad():\n",
    "        for step,(X1, y1) in enumerate(val_dataset):\n",
    "            output = model(X1)\n",
    "            \n",
    "            loss_test = loss_fn(output, y1)\n",
    "            mae += mean_absolute_error(output, y1)\n",
    "            test_los += loss_test.item()*X1.size(0)\n",
    "            test_num += X1.size(0)\n",
    "            #print(output, y1,test_los)\n",
    "    test_losses.append(test_los/test_num)\n",
    "# print(train_loss_all)\n",
    "\n",
    "current_time = time.time()\n",
    "total = current_time - start_time\n",
    "print(f'Training Took: {total/60} minutes!')"
   ]
  },
  {
   "cell_type": "code",
   "execution_count": 134,
   "id": "9b6d1ec0-711e-449c-93e3-ee3474937d25",
   "metadata": {},
   "outputs": [
    {
     "data": {
      "image/png": "[encoded data removed]",
      "text/plain": [
       "<Figure size 1000x600 with 1 Axes>"
      ]
     },
     "metadata": {},
     "output_type": "display_data"
    }
   ],
   "source": [
    "plt.figure(figsize=(10,6))\n",
    "plt.plot(train_loss_all, \"ro-\", label=\"Train loss\")\n",
    "plt.plot(test_losses, \"bo-\", label=\"Test loss\")\n",
    "plt.legend()\n",
    "plt.grid()\n",
    "plt.xlabel(\"epoch\")\n",
    "plt.ylabel(\"MSE loss\")\n",
    "plt.savefig(save_fig_path+'HousePrice_loss_%s_2000.pdf'%epoch)\n",
    "plt.show()"
   ]
  },
  {
   "cell_type": "code",
   "execution_count": null,
   "id": "36167743-2d1f-4215-ae5f-66a6d85d97d6",
   "metadata": {},
   "outputs": [],
   "source": []
  },
  {
   "cell_type": "code",
   "execution_count": null,
   "id": "1505df2c-b155-44c4-99e3-7795ac2e747e",
   "metadata": {},
   "outputs": [],
   "source": [
    "test_dataset = torch.tensor((new_all[num_train:].values), dtype=torch.float32)\n",
    "# print(test_dataset[0])\n",
    "test_dataset = test_dataset.to(device)\n",
    "# for index, X in enumerate(test_dataset):\n",
    "output = model(test_dataset).to(device)\n",
    "# print(output)\n",
    "result = pd.DataFrame(output.cpu().data.numpy(), columns=['SalePrice'])\n",
    "\n",
    "if np.any(result):\n",
    "    result['SalePrice'] = result['SalePrice'].fillna(0)\n",
    "\n",
    "result['SalePrice'] = result['SalePrice'] * (maxs - mins) + means\n",
    "result['Id'] = np.array(result.index)\n",
    "result['Id'] = result['Id'] + 1461\n",
    "result = pd.DataFrame(result, columns=['Id', 'SalePrice'])\n",
    "result"
   ]
  },
  {
   "cell_type": "code",
   "execution_count": null,
   "id": "2497f226-ccbe-4fb0-9cc6-4aa1bc340d2e",
   "metadata": {},
   "outputs": [],
   "source": [
    "result.to_csv(\"./result.csv\", columns=['Id', 'SalePrice'], index=False)"
   ]
  },
  {
   "cell_type": "markdown",
   "id": "b6d54f94-f2db-4fbf-ab83-080abc6180a5",
   "metadata": {},
   "source": [
    "# END of Code"
   ]
  },
  {
   "cell_type": "code",
   "execution_count": null,
   "id": "0d3f9abb-f65a-4a86-b3b4-6712d724c31d",
   "metadata": {},
   "outputs": [],
   "source": []
  },
  {
   "cell_type": "code",
   "execution_count": null,
   "id": "72903ffd-95ab-4c92-aa69-dc71f3433157",
   "metadata": {},
   "outputs": [],
   "source": []
  }
 ],
 "metadata": {
  "kernelspec": {
   "display_name": "Python [conda env:base] *",
   "language": "python",
   "name": "conda-base-py"
  },
  "language_info": {
   "codemirror_mode": {
    "name": "ipython",
    "version": 3
   },
   "file_extension": ".py",
   "mimetype": "text/x-python",
   "name": "python",
   "nbconvert_exporter": "python",
   "pygments_lexer": "ipython3",
   "version": "3.12.7"
  }
 },
 "nbformat": 4,
 "nbformat_minor": 5
}
