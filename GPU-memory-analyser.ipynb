{
 "cells": [
  {
   "cell_type": "code",
   "execution_count": 1,
   "id": "9b7a30db-8451-43de-a9f0-42cdeeaa6d9d",
   "metadata": {},
   "outputs": [],
   "source": [
    "def estimate_gpu_memory(batch_size, input_shape=(224, 224, 3), dtype_bytes=4,\n",
    "                        model_param_MB=98, optimizer_MB=294, activation_factor=5):\n",
    "    \"\"\"\n",
    "    Estimate GPU memory usage for CNN training (e.g., ResNet-50).\n",
    "\n",
    "    Parameters:\n",
    "    - batch_size: Number of input images\n",
    "    - input_shape: Tuple of (height, width, channels)\n",
    "    - dtype_bytes: Bytes per pixel value (4 for float32, 2 for float16)\n",
    "    - model_param_MB: Size of model parameters in MB\n",
    "    - optimizer_MB: Memory used by optimizer states in MB\n",
    "    - activation_factor: Multiplier for activation and gradient memory\n",
    "\n",
    "    Returns:\n",
    "    - Input memory (MB)\n",
    "    - Total estimated memory (MB)\n",
    "    - Total estimated memory (GB)\n",
    "    \"\"\"\n",
    "    height, width, channels = input_shape\n",
    "    input_MB = batch_size * height * width * channels * dtype_bytes / (1024**2)\n",
    "    activation_MB = activation_factor * input_MB\n",
    "    total_MB = input_MB + activation_MB + model_param_MB + optimizer_MB\n",
    "    total_GB = total_MB / 1024\n",
    "    return input_MB, total_MB, total_GB\n"
   ]
  },
  {
   "cell_type": "code",
   "execution_count": 3,
   "id": "82e8c6ac-4ee0-42e1-939a-11495d18ad1c",
   "metadata": {},
   "outputs": [
    {
     "data": {
      "text/plain": [
       "(294.0, 2156.0, 2.10546875)"
      ]
     },
     "execution_count": 3,
     "metadata": {},
     "output_type": "execute_result"
    }
   ],
   "source": [
    "estimate_gpu_memory(batch_size=512)"
   ]
  },
  {
   "cell_type": "code",
   "execution_count": 7,
   "id": "ba115ecf-9728-44c1-a8e1-acb39f70df15",
   "metadata": {},
   "outputs": [
    {
     "ename": "SyntaxError",
     "evalue": "invalid syntax (4053244093.py, line 49)",
     "output_type": "error",
     "traceback": [
      "\u001b[0;36m  Cell \u001b[0;32mIn[7], line 49\u001b[0;36m\u001b[0m\n\u001b[0;31m    python estimate_lstm_gpu_memory.py\u001b[0m\n\u001b[0m           ^\u001b[0m\n\u001b[0;31mSyntaxError\u001b[0m\u001b[0;31m:\u001b[0m invalid syntax\n"
     ]
    }
   ],
   "source": [
    "def estimate_lstm_gpu_memory(batch_size, seq_length, input_dim, hidden_dim, num_layers,\n",
    "                              dtype_bytes=4, bidirectional=False, model_param_MB_fixed=5):\n",
    "    \"\"\"\n",
    "    Estimate GPU memory usage for an LSTM model on time series data.\n",
    "\n",
    "    Parameters:\n",
    "    - batch_size: Number of sequences in a batch\n",
    "    - seq_length: Number of time steps per sequence\n",
    "    - input_dim: Number of features per time step\n",
    "    - hidden_dim: Number of hidden units in the LSTM\n",
    "    - num_layers: Number of LSTM layers\n",
    "    - dtype_bytes: 4 for float32, 2 for float16\n",
    "    - bidirectional: True for bidirectional LSTM\n",
    "    - model_param_MB_fixed: Estimate of model parameters in MB\n",
    "\n",
    "    Returns:\n",
    "    - Input memory (MB)\n",
    "    - Activation memory (MB)\n",
    "    - Total memory (MB)\n",
    "    - Total memory (GB)\n",
    "    \"\"\"\n",
    "    # Input memory\n",
    "    input_MB = batch_size * seq_length * input_dim * dtype_bytes / (1024 ** 2)\n",
    "\n",
    "    # Activation memory\n",
    "    direction_multiplier = 2 if bidirectional else 1\n",
    "    activation_MB = batch_size * seq_length * hidden_dim * direction_multiplier * num_layers * dtype_bytes / (1024 ** 2)\n",
    "\n",
    "    # Total memory\n",
    "    total_MB = input_MB + activation_MB + model_param_MB_fixed\n",
    "    total_GB = total_MB / 1024\n",
    "\n",
    "    return input_MB, activation_MB, total_MB, total_GB\n",
    "\n",
    "# Example usage\n",
    "if __name__ == \"__main__\":\n",
    "    input_MB, act_MB, total_MB, total_GB = estimate_lstm_gpu_memory(\n",
    "        batch_size=64,\n",
    "        seq_length=100,\n",
    "        input_dim=3,\n",
    "        hidden_dim=128,\n",
    "        num_layers=2,\n",
    "        bidirectional=False\n",
    "    )\n",
    "    print(f\"Input Memory:       {input_MB:.2f} MB\")\n",
    "    print(f\"Activation Memory:  {act_MB:.2f} MB\")\n",
    "    print(f\"Total Memory:       {total_MB:.2f} MB ({total_GB:.2f} GB)\")\n",
    "\n",
    "estimate_lstm_gpu_memory(500)"
   ]
  },
  {
   "cell_type": "code",
   "execution_count": null,
   "id": "5445e061-7ab1-4847-acb4-16cf9f69a6ec",
   "metadata": {},
   "outputs": [],
   "source": []
  }
 ],
 "metadata": {
  "kernelspec": {
   "display_name": "Python [conda env:base] *",
   "language": "python",
   "name": "conda-base-py"
  },
  "language_info": {
   "codemirror_mode": {
    "name": "ipython",
    "version": 3
   },
   "file_extension": ".py",
   "mimetype": "text/x-python",
   "name": "python",
   "nbconvert_exporter": "python",
   "pygments_lexer": "ipython3",
   "version": "3.12.7"
  }
 },
 "nbformat": 4,
 "nbformat_minor": 5
}
