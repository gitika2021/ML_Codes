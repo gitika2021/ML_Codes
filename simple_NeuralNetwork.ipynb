{
 "cells": [
  {
   "cell_type": "markdown",
   "metadata": {
    "colab_type": "text",
    "id": "view-in-github"
   },
   "source": [
    "<a href=\"https://colab.research.google.com/github/flatplanet/Pytorch-Tutorial-Youtube/blob/main/simple_NeuralNetwork.ipynb\" target=\"_parent\"><img src=\"https://colab.research.google.com/assets/colab-badge.svg\" alt=\"Open In Colab\"/></a>"
   ]
  },
  {
   "cell_type": "code",
   "execution_count": 7,
   "metadata": {
    "id": "vGOD8SzOPQAk"
   },
   "outputs": [],
   "source": [
    "import torch\n",
    "import torch.nn as nn\n",
    "import torch.nn.functional as F\n"
   ]
  },
  {
   "cell_type": "code",
   "execution_count": 8,
   "metadata": {
    "id": "mnDj8FLiRSxO"
   },
   "outputs": [],
   "source": [
    "# Create a Model Class that inherits nn.Module\n",
    "class Model(nn.Module):\n",
    "  # Input layer (4 features of the flower) -->\n",
    "  # Hidden Layer1 (number of neurons) -->\n",
    "  # H2 (n) -->\n",
    "  # output (3 classes of iris flowers)\n",
    "  def __init__(self, in_features=4, h1=8, h2=9, out_features=3):\n",
    "    super().__init__() # instantiate our nn.Module\n",
    "    self.fc1 = nn.Linear(in_features, h1)\n",
    "    self.fc2 = nn.Linear(h1, h2)\n",
    "    self.out = nn.Linear(h2, out_features)\n",
    "\n",
    "  def forward(self, x):\n",
    "    x = F.relu(self.fc1(x))\n",
    "    x = F.relu(self.fc2(x))\n",
    "    x = self.out(x)\n",
    "\n",
    "    return x\n"
   ]
  },
  {
   "cell_type": "code",
   "execution_count": 9,
   "metadata": {
    "id": "3O7rymtcT-bD"
   },
   "outputs": [],
   "source": [
    "# Pick a manual seed for randomization\n",
    "torch.manual_seed(41)\n",
    "# Create an instance of model\n",
    "model = Model()"
   ]
  },
  {
   "cell_type": "code",
   "execution_count": 10,
   "metadata": {
    "id": "11Q8PWnaUVYj"
   },
   "outputs": [],
   "source": [
    "import pandas as pd\n",
    "import matplotlib.pyplot as plt\n",
    "%matplotlib inline"
   ]
  },
  {
   "cell_type": "code",
   "execution_count": 11,
   "metadata": {
    "id": "3WzV4PfT2xhF"
   },
   "outputs": [],
   "source": [
    "url = 'https://gist.githubusercontent.com/netj/8836201/raw/6f9306ad21398ea43cba4f7d537619d0e07d5ae3/iris.csv'\n",
    "my_df = pd.read_csv(url) \n"
   ]
  },
  {
   "cell_type": "code",
   "execution_count": 12,
   "metadata": {
    "colab": {
     "base_uri": "https://localhost:8080/",
     "height": 206
    },
    "id": "r9iQSTSP3X2F",
    "outputId": "1badc81e-f5d3-4136-f161-53d8ea09a1fa"
   },
   "outputs": [
    {
     "name": "stdout",
     "output_type": "stream",
     "text": [
      "['Setosa' 'Versicolor' 'Virginica']\n"
     ]
    }
   ],
   "source": [
    "my_df.tail() #last 5 lines of csv\n",
    "print(my_df['variety'].unique())\n"
   ]
  },
  {
   "cell_type": "code",
   "execution_count": 13,
   "metadata": {
    "colab": {
     "base_uri": "https://localhost:8080/",
     "height": 423
    },
    "id": "qTcYyxFe3ZHU",
    "outputId": "f43bf80f-638a-4b7f-d87c-da58d75f4c8d"
   },
   "outputs": [
    {
     "name": "stderr",
     "output_type": "stream",
     "text": [
      "/tmp/ipykernel_55177/1249557430.py:4: FutureWarning: Downcasting behavior in `replace` is deprecated and will be removed in a future version. To retain the old behavior, explicitly call `result.infer_objects(copy=False)`. To opt-in to the future behavior, set `pd.set_option('future.no_silent_downcasting', True)`\n",
      "  my_df['variety'] = my_df['variety'].replace('Virginica', 2.0)\n"
     ]
    },
    {
     "data": {
      "text/html": [
       "<div>\n",
       "<style scoped>\n",
       "    .dataframe tbody tr th:only-of-type {\n",
       "        vertical-align: middle;\n",
       "    }\n",
       "\n",
       "    .dataframe tbody tr th {\n",
       "        vertical-align: top;\n",
       "    }\n",
       "\n",
       "    .dataframe thead th {\n",
       "        text-align: right;\n",
       "    }\n",
       "</style>\n",
       "<table border=\"1\" class=\"dataframe\">\n",
       "  <thead>\n",
       "    <tr style=\"text-align: right;\">\n",
       "      <th></th>\n",
       "      <th>sepal.length</th>\n",
       "      <th>sepal.width</th>\n",
       "      <th>petal.length</th>\n",
       "      <th>petal.width</th>\n",
       "      <th>variety</th>\n",
       "    </tr>\n",
       "  </thead>\n",
       "  <tbody>\n",
       "    <tr>\n",
       "      <th>0</th>\n",
       "      <td>5.1</td>\n",
       "      <td>3.5</td>\n",
       "      <td>1.4</td>\n",
       "      <td>0.2</td>\n",
       "      <td>0.0</td>\n",
       "    </tr>\n",
       "    <tr>\n",
       "      <th>1</th>\n",
       "      <td>4.9</td>\n",
       "      <td>3.0</td>\n",
       "      <td>1.4</td>\n",
       "      <td>0.2</td>\n",
       "      <td>0.0</td>\n",
       "    </tr>\n",
       "    <tr>\n",
       "      <th>2</th>\n",
       "      <td>4.7</td>\n",
       "      <td>3.2</td>\n",
       "      <td>1.3</td>\n",
       "      <td>0.2</td>\n",
       "      <td>0.0</td>\n",
       "    </tr>\n",
       "    <tr>\n",
       "      <th>3</th>\n",
       "      <td>4.6</td>\n",
       "      <td>3.1</td>\n",
       "      <td>1.5</td>\n",
       "      <td>0.2</td>\n",
       "      <td>0.0</td>\n",
       "    </tr>\n",
       "    <tr>\n",
       "      <th>4</th>\n",
       "      <td>5.0</td>\n",
       "      <td>3.6</td>\n",
       "      <td>1.4</td>\n",
       "      <td>0.2</td>\n",
       "      <td>0.0</td>\n",
       "    </tr>\n",
       "    <tr>\n",
       "      <th>...</th>\n",
       "      <td>...</td>\n",
       "      <td>...</td>\n",
       "      <td>...</td>\n",
       "      <td>...</td>\n",
       "      <td>...</td>\n",
       "    </tr>\n",
       "    <tr>\n",
       "      <th>145</th>\n",
       "      <td>6.7</td>\n",
       "      <td>3.0</td>\n",
       "      <td>5.2</td>\n",
       "      <td>2.3</td>\n",
       "      <td>2.0</td>\n",
       "    </tr>\n",
       "    <tr>\n",
       "      <th>146</th>\n",
       "      <td>6.3</td>\n",
       "      <td>2.5</td>\n",
       "      <td>5.0</td>\n",
       "      <td>1.9</td>\n",
       "      <td>2.0</td>\n",
       "    </tr>\n",
       "    <tr>\n",
       "      <th>147</th>\n",
       "      <td>6.5</td>\n",
       "      <td>3.0</td>\n",
       "      <td>5.2</td>\n",
       "      <td>2.0</td>\n",
       "      <td>2.0</td>\n",
       "    </tr>\n",
       "    <tr>\n",
       "      <th>148</th>\n",
       "      <td>6.2</td>\n",
       "      <td>3.4</td>\n",
       "      <td>5.4</td>\n",
       "      <td>2.3</td>\n",
       "      <td>2.0</td>\n",
       "    </tr>\n",
       "    <tr>\n",
       "      <th>149</th>\n",
       "      <td>5.9</td>\n",
       "      <td>3.0</td>\n",
       "      <td>5.1</td>\n",
       "      <td>1.8</td>\n",
       "      <td>2.0</td>\n",
       "    </tr>\n",
       "  </tbody>\n",
       "</table>\n",
       "<p>150 rows × 5 columns</p>\n",
       "</div>"
      ],
      "text/plain": [
       "     sepal.length  sepal.width  petal.length  petal.width  variety\n",
       "0             5.1          3.5           1.4          0.2      0.0\n",
       "1             4.9          3.0           1.4          0.2      0.0\n",
       "2             4.7          3.2           1.3          0.2      0.0\n",
       "3             4.6          3.1           1.5          0.2      0.0\n",
       "4             5.0          3.6           1.4          0.2      0.0\n",
       "..            ...          ...           ...          ...      ...\n",
       "145           6.7          3.0           5.2          2.3      2.0\n",
       "146           6.3          2.5           5.0          1.9      2.0\n",
       "147           6.5          3.0           5.2          2.0      2.0\n",
       "148           6.2          3.4           5.4          2.3      2.0\n",
       "149           5.9          3.0           5.1          1.8      2.0\n",
       "\n",
       "[150 rows x 5 columns]"
      ]
     },
     "execution_count": 13,
     "metadata": {},
     "output_type": "execute_result"
    }
   ],
   "source": [
    "# Change last column from strings to integers\n",
    "my_df['variety'] = my_df['variety'].replace('Setosa', 0.0)\n",
    "my_df['variety'] = my_df['variety'].replace('Versicolor', 1.0)\n",
    "my_df['variety'] = my_df['variety'].replace('Virginica', 2.0)\n",
    "my_df"
   ]
  },
  {
   "cell_type": "code",
   "execution_count": 14,
   "metadata": {
    "id": "1ZCKBrRz3xRE"
   },
   "outputs": [],
   "source": [
    "# Train Test Split!  Set X, y\n",
    "X = my_df.drop('variety', axis=1)\n",
    "y = my_df['variety']"
   ]
  },
  {
   "cell_type": "code",
   "execution_count": 15,
   "metadata": {
    "id": "AvjES9MX4MF1"
   },
   "outputs": [],
   "source": [
    "# Convert these to numpy arrays\n",
    "X = X.values\n",
    "y = y.values"
   ]
  },
  {
   "cell_type": "code",
   "execution_count": 16,
   "metadata": {
    "id": "AkNGTq2e4M40"
   },
   "outputs": [],
   "source": [
    "from sklearn.model_selection import train_test_split"
   ]
  },
  {
   "cell_type": "code",
   "execution_count": 17,
   "metadata": {
    "id": "dRv8t5BV4YQs"
   },
   "outputs": [],
   "source": [
    "# Train Test Split\n",
    "X_train, X_test, y_train, y_test = train_test_split(X, y, test_size=0.2, random_state=41)"
   ]
  },
  {
   "cell_type": "code",
   "execution_count": 18,
   "metadata": {
    "id": "eD_LwH6Q46-t"
   },
   "outputs": [],
   "source": [
    "# Convert X features to float tensors\n",
    "X_train = torch.FloatTensor(X_train)\n",
    "X_test = torch.FloatTensor(X_test)"
   ]
  },
  {
   "cell_type": "code",
   "execution_count": 19,
   "metadata": {
    "id": "Eo-sZan65Qgj"
   },
   "outputs": [],
   "source": [
    "# Convert y labels to tensors long\n",
    "y_train = torch.LongTensor(y_train)\n",
    "y_test = torch.LongTensor(y_test)"
   ]
  },
  {
   "cell_type": "code",
   "execution_count": 20,
   "metadata": {
    "id": "DoEoy3SA5mAz"
   },
   "outputs": [],
   "source": [
    "# Set the criterion of model to measure the error, how far off the predictions are from the data\n",
    "criterion = nn.CrossEntropyLoss()\n",
    "# Choose Adam Optimizer, lr = learning rate (if error doesn't go down after a bunch of iterations (epochs), lower our learning rate)\n",
    "optimizer = torch.optim.Adam(model.parameters(), lr=0.01)"
   ]
  },
  {
   "cell_type": "code",
   "execution_count": 21,
   "metadata": {
    "colab": {
     "base_uri": "https://localhost:8080/"
    },
    "id": "i0EJKYEJ6eKz",
    "outputId": "0f714daf-0493-43e9-f058-e7b33fe5e099"
   },
   "outputs": [
    {
     "name": "stdout",
     "output_type": "stream",
     "text": [
      "Epoch: 0 and loss: 1.125203251838684\n",
      "Epoch: 10 and loss: 1.0097211599349976\n",
      "Epoch: 20 and loss: 0.8162347674369812\n",
      "Epoch: 30 and loss: 0.585993230342865\n",
      "Epoch: 40 and loss: 0.4003389775753021\n",
      "Epoch: 50 and loss: 0.26794716715812683\n",
      "Epoch: 60 and loss: 0.1796349585056305\n",
      "Epoch: 70 and loss: 0.12165623158216476\n",
      "Epoch: 80 and loss: 0.0860651507973671\n",
      "Epoch: 90 and loss: 0.06522614508867264\n",
      "Epoch: 100 and loss: 0.05286872014403343\n",
      "Epoch: 110 and loss: 0.04508011043071747\n",
      "Epoch: 120 and loss: 0.03979310765862465\n",
      "Epoch: 130 and loss: 0.03596426919102669\n",
      "Epoch: 140 and loss: 0.03302799537777901\n",
      "Epoch: 150 and loss: 0.030512524768710136\n",
      "Epoch: 160 and loss: 0.02773350290954113\n",
      "Epoch: 170 and loss: 0.024612102657556534\n",
      "Epoch: 180 and loss: 0.02167237363755703\n",
      "Epoch: 190 and loss: 0.01932021789252758\n",
      "Epoch: 200 and loss: 0.0174928717315197\n",
      "Epoch: 210 and loss: 0.01604374870657921\n",
      "Epoch: 220 and loss: 0.01483999565243721\n",
      "Epoch: 230 and loss: 0.013800058513879776\n",
      "Epoch: 240 and loss: 0.012878856621682644\n",
      "Epoch: 250 and loss: 0.012144574895501137\n",
      "Epoch: 260 and loss: 0.011606554500758648\n",
      "Epoch: 270 and loss: 0.010983292944729328\n",
      "Epoch: 280 and loss: 0.010267996229231358\n",
      "Epoch: 290 and loss: 0.00971288699656725\n",
      "Epoch: 300 and loss: 0.009499614126980305\n",
      "Epoch: 310 and loss: 0.008920922875404358\n",
      "Epoch: 320 and loss: 0.008430850692093372\n",
      "Epoch: 330 and loss: 0.007952299900352955\n",
      "Epoch: 340 and loss: 0.007868134416639805\n",
      "Epoch: 350 and loss: 0.007325956132262945\n",
      "Epoch: 360 and loss: 0.006909631658345461\n",
      "Epoch: 370 and loss: 0.006585904397070408\n",
      "Epoch: 380 and loss: 0.006259348709136248\n",
      "Epoch: 390 and loss: 0.0063474178314208984\n",
      "Epoch: 400 and loss: 0.006240826565772295\n",
      "Epoch: 410 and loss: 0.00572382053360343\n",
      "Epoch: 420 and loss: 0.005300221499055624\n",
      "Epoch: 430 and loss: 0.005125891882926226\n",
      "Epoch: 440 and loss: 0.004919005557894707\n",
      "Epoch: 450 and loss: 0.0047289058566093445\n",
      "Epoch: 460 and loss: 0.00455176318064332\n",
      "Epoch: 470 and loss: 0.004382995888590813\n",
      "Epoch: 480 and loss: 0.004220409784466028\n",
      "Epoch: 490 and loss: 0.004064778331667185\n",
      "Epoch: 500 and loss: 0.0039155506528913975\n",
      "Epoch: 510 and loss: 0.003772460389882326\n",
      "Epoch: 520 and loss: 0.0036352488677948713\n",
      "Epoch: 530 and loss: 0.003503655083477497\n",
      "Epoch: 540 and loss: 0.0033775130286812782\n",
      "Epoch: 550 and loss: 0.0032565693836659193\n",
      "Epoch: 560 and loss: 0.003140639513731003\n",
      "Epoch: 570 and loss: 0.00302949920296669\n",
      "Epoch: 580 and loss: 0.002922934014350176\n",
      "Epoch: 590 and loss: 0.0028207674622535706\n",
      "Epoch: 600 and loss: 0.0027228279504925013\n",
      "Epoch: 610 and loss: 0.0026289233937859535\n",
      "Epoch: 620 and loss: 0.002538845408707857\n",
      "Epoch: 630 and loss: 0.0024524745531380177\n",
      "Epoch: 640 and loss: 0.0023696417920291424\n",
      "Epoch: 650 and loss: 0.002290185075253248\n",
      "Epoch: 660 and loss: 0.002213953761383891\n",
      "Epoch: 670 and loss: 0.0021408223547041416\n",
      "Epoch: 680 and loss: 0.002070617163553834\n",
      "Epoch: 690 and loss: 0.002003252971917391\n",
      "Epoch: 700 and loss: 0.0019385658670216799\n",
      "Epoch: 710 and loss: 0.001876482623629272\n",
      "Epoch: 720 and loss: 0.001816817675717175\n",
      "Epoch: 730 and loss: 0.0017595256213098764\n",
      "Epoch: 740 and loss: 0.0017044765409082174\n",
      "Epoch: 750 and loss: 0.001651546685025096\n",
      "Epoch: 760 and loss: 0.0016007062513381243\n",
      "Epoch: 770 and loss: 0.0015518104191869497\n",
      "Epoch: 780 and loss: 0.001504794112406671\n",
      "Epoch: 790 and loss: 0.0014595688553526998\n",
      "Epoch: 800 and loss: 0.0014160758582875133\n",
      "Epoch: 810 and loss: 0.0013741902075707912\n",
      "Epoch: 820 and loss: 0.0013338945573195815\n",
      "Epoch: 830 and loss: 0.0012950956588611007\n",
      "Epoch: 840 and loss: 0.0012577441520988941\n",
      "Epoch: 850 and loss: 0.0012217587791383266\n",
      "Epoch: 860 and loss: 0.0011870840098708868\n",
      "Epoch: 870 and loss: 0.0011536746751517057\n",
      "Epoch: 880 and loss: 0.0011214693076908588\n",
      "Epoch: 890 and loss: 0.0010904344962909818\n",
      "Epoch: 900 and loss: 0.0010604946874082088\n",
      "Epoch: 910 and loss: 0.0010316161205992103\n",
      "Epoch: 920 and loss: 0.0010037552565336227\n",
      "Epoch: 930 and loss: 0.0009768740274012089\n",
      "Epoch: 940 and loss: 0.0009509149240329862\n",
      "Epoch: 950 and loss: 0.0009258509962819517\n",
      "Epoch: 960 and loss: 0.0009016557014547288\n",
      "Epoch: 970 and loss: 0.0008782687946222723\n",
      "Epoch: 980 and loss: 0.0008556892280466855\n",
      "Epoch: 990 and loss: 0.0008338566985912621\n"
     ]
    }
   ],
   "source": [
    "# Train our model!\n",
    "# Epochs? (one run thru all the training data in our network)\n",
    "epochs = 1000\n",
    "losses = []\n",
    "for i in range(epochs):\n",
    "  # Go forward and get a prediction\n",
    "  y_pred = model.forward(X_train) # Get predicted results\n",
    "\n",
    "  # Measure the loss/error, gonna be high at first\n",
    "  loss = criterion(y_pred, y_train) # predicted values vs the y_train\n",
    "\n",
    "  # Keep Track of our losses\n",
    "  losses.append(loss.detach().numpy())\n",
    "\n",
    "  # print every 10 epoch\n",
    "  if i % 10 == 0:\n",
    "    print(f'Epoch: {i} and loss: {loss}')\n",
    "\n",
    "  # Do some back propagation: take the error rate of forward propagation and feed it back\n",
    "  # thru the network to fine tune the weights\n",
    "  optimizer.zero_grad()\n",
    "  loss.backward()\n",
    "  optimizer.step()\n"
   ]
  },
  {
   "cell_type": "code",
   "execution_count": 61,
   "metadata": {
    "colab": {
     "base_uri": "https://localhost:8080/",
     "height": 467
    },
    "id": "EErRwcHZ6gD6",
    "outputId": "a2ba8134-399d-4a13-e252-29f4b45dd6b6"
   },
   "outputs": [
    {
     "data": {
      "image/png": "[encoded data removed]",
      "text/plain": [
       "<Figure size 640x480 with 1 Axes>"
      ]
     },
     "metadata": {},
     "output_type": "display_data"
    }
   ],
   "source": [
    "# Graph it out!\n",
    "plt.plot(range(epochs), losses)\n",
    "plt.ylabel(\"loss/error\")\n",
    "plt.xlabel('Epoch')\n",
    "plt.show()"
   ]
  },
  {
   "cell_type": "code",
   "execution_count": 23,
   "metadata": {
    "id": "Dip1EQKV8e8C"
   },
   "outputs": [],
   "source": [
    "# Evaluate Model on Test Data Set (validate model on test set)\n",
    "with torch.no_grad():  # Basically turn off back propogation\n",
    "  y_eval = model.forward(X_test) # X_test are features from our test set, y_eval will be predictions\n",
    "  loss = criterion(y_eval, y_test) # Find the loss or error\n"
   ]
  },
  {
   "cell_type": "code",
   "execution_count": 24,
   "metadata": {
    "colab": {
     "base_uri": "https://localhost:8080/"
    },
    "id": "WKGJ7x_NZN5e",
    "outputId": "59c49944-1a98-44cf-d0e4-8f06a80c0b0a"
   },
   "outputs": [
    {
     "data": {
      "text/plain": [
       "tensor(0.7258)"
      ]
     },
     "execution_count": 24,
     "metadata": {},
     "output_type": "execute_result"
    }
   ],
   "source": [
    "loss"
   ]
  },
  {
   "cell_type": "code",
   "execution_count": 25,
   "metadata": {
    "colab": {
     "base_uri": "https://localhost:8080/"
    },
    "id": "lyntMH5tZOtW",
    "outputId": "889fe499-9325-4879-e031-ff69b065b9de"
   },
   "outputs": [
    {
     "name": "stdout",
     "output_type": "stream",
     "text": [
      "1.)  tensor([-10.6649,  -1.2855,  20.5699]) \t 2 \t 2\n",
      "2.)  tensor([-13.7519,  -6.1630,  30.8212]) \t 2 \t 2\n",
      "3.)  tensor([-15.8544,  -6.3233,  34.4868]) \t 2 \t 2\n",
      "4.)  tensor([ 13.5662,  26.6169, -20.1908]) \t 1 \t 1\n",
      "5.)  tensor([-13.2983,  -3.6768,  27.4596]) \t 2 \t 2\n",
      "6.)  tensor([ 24.5100,  37.3529, -36.9165]) \t 1 \t 1\n",
      "7.)  tensor([-8.2902,  2.1887, 16.6039]) \t 2 \t 2\n",
      "8.)  tensor([ 14.4748,  27.6771, -21.7116]) \t 1 \t 1\n",
      "9.)  tensor([-12.0742,  -1.9638,  23.6258]) \t 2 \t 2\n",
      "10.)  tensor([-14.7158,  -6.6926,  32.9873]) \t 2 \t 2\n",
      "11.)  tensor([-5.1405,  5.5091, 11.2662]) \t 2 \t 2\n",
      "12.)  tensor([ 106.8321,   94.9895, -139.1232]) \t 0 \t 0\n",
      "13.)  tensor([  96.9599,   86.0550, -126.1875]) \t 0 \t 0\n",
      "14.)  tensor([ 29.1906,  37.9628, -42.1385]) \t 1 \t 1\n",
      "15.)  tensor([  93.2399,   84.8740, -122.1188]) \t 0 \t 0\n",
      "16.)  tensor([-0.3968, 10.9889,  3.3490]) \t 2 \t 1\n",
      "17.)  tensor([  97.9983,   87.4307, -127.7299]) \t 0 \t 0\n",
      "18.)  tensor([-8.0183,  1.9037, 16.0338]) \t 1 \t 2\n",
      "19.)  tensor([ 111.8172,   98.6710, -145.2970]) \t 0 \t 0\n",
      "20.)  tensor([  85.1359,   77.0053, -111.3363]) \t 0 \t 0\n",
      "21.)  tensor([ 27.9341,  38.3699, -41.0252]) \t 1 \t 1\n",
      "22.)  tensor([-14.3154,  -5.3892,  30.9479]) \t 2 \t 2\n",
      "23.)  tensor([  94.1780,   85.4522, -123.2530]) \t 0 \t 0\n",
      "24.)  tensor([ 102.8692,   91.2570, -133.8676]) \t 0 \t 0\n",
      "25.)  tensor([ 28.9593,  39.8489, -42.5576]) \t 1 \t 1\n",
      "26.)  tensor([ 23.6662,  36.0299, -35.6425]) \t 1 \t 1\n",
      "27.)  tensor([ 11.8430,  25.0954, -17.1778]) \t 1 \t 1\n",
      "28.)  tensor([ 28.2254,  39.3890, -41.6631]) \t 1 \t 1\n",
      "29.)  tensor([ 105.8696,   94.0900, -137.8498]) \t 0 \t 0\n",
      "30.)  tensor([ 10.0914,  22.6354, -14.3586]) \t 1 \t 1\n",
      "We got 28 correct!\n"
     ]
    }
   ],
   "source": [
    "correct = 0\n",
    "with torch.no_grad():\n",
    "  for i, data in enumerate(X_test):\n",
    "    y_val = model.forward(data)\n",
    "\n",
    "    if y_test[i] == 0:\n",
    "      x = \"Setosa\"\n",
    "    elif y_test[i] == 1:\n",
    "      x = 'Versicolor'\n",
    "    else:\n",
    "      x = 'Virginica'\n",
    "\n",
    "\n",
    "    # Will tell us what type of flower class our network thinks it is\n",
    "    print(f'{i+1}.)  {str(y_val)} \\t {y_test[i]} \\t {y_val.argmax().item()}')\n",
    "\n",
    "    # Correct or not\n",
    "    if y_val.argmax().item() == y_test[i]:\n",
    "      correct +=1\n",
    "\n",
    "print(f'We got {correct} correct!')"
   ]
  },
  {
   "cell_type": "code",
   "execution_count": 26,
   "metadata": {
    "id": "DJPl2eAmbJiM"
   },
   "outputs": [],
   "source": [
    "new_iris = torch.tensor([4.7, 3.2, 1.3, 0.2])"
   ]
  },
  {
   "cell_type": "code",
   "execution_count": 27,
   "metadata": {
    "colab": {
     "base_uri": "https://localhost:8080/"
    },
    "id": "WrDdPpEsmPOd",
    "outputId": "28800bc0-b5c0-4a65-ef4f-d850a0f1fc51"
   },
   "outputs": [
    {
     "name": "stdout",
     "output_type": "stream",
     "text": [
      "tensor([ 102.8692,   91.2570, -133.8676])\n"
     ]
    }
   ],
   "source": [
    "with torch.no_grad():\n",
    "  print(model(new_iris))"
   ]
  },
  {
   "cell_type": "code",
   "execution_count": 28,
   "metadata": {
    "id": "EcdmzRL7mZ_M"
   },
   "outputs": [],
   "source": [
    "newer_iris = torch.tensor([5.9, 3.0, 5.1, 1.8])"
   ]
  },
  {
   "cell_type": "code",
   "execution_count": 29,
   "metadata": {
    "colab": {
     "base_uri": "https://localhost:8080/"
    },
    "id": "hPnukBTCmrLs",
    "outputId": "bb09b40e-fc73-410e-8a36-aaa38578e59e"
   },
   "outputs": [
    {
     "name": "stdout",
     "output_type": "stream",
     "text": [
      "tensor([-10.5846,  -1.0177,  20.3451])\n"
     ]
    }
   ],
   "source": [
    "with torch.no_grad():\n",
    "  print(model(newer_iris))"
   ]
  },
  {
   "cell_type": "code",
   "execution_count": 30,
   "metadata": {
    "id": "cc42k-Crmvck"
   },
   "outputs": [],
   "source": [
    "# Save our NN Model\n",
    "torch.save(model.state_dict(), 'my_really_awesome_iris_model.pt')"
   ]
  },
  {
   "cell_type": "code",
   "execution_count": 31,
   "metadata": {
    "colab": {
     "base_uri": "https://localhost:8080/"
    },
    "id": "3RKnF7RXnhYz",
    "outputId": "c0d210a5-7b39-46d7-bfdd-91aa678f2cbd"
   },
   "outputs": [
    {
     "name": "stderr",
     "output_type": "stream",
     "text": [
      "/tmp/ipykernel_55177/1212390300.py:3: FutureWarning: You are using `torch.load` with `weights_only=False` (the current default value), which uses the default pickle module implicitly. It is possible to construct malicious pickle data which will execute arbitrary code during unpickling (See https://github.com/pytorch/pytorch/blob/main/SECURITY.md#untrusted-models for more details). In a future release, the default value for `weights_only` will be flipped to `True`. This limits the functions that could be executed during unpickling. Arbitrary objects will no longer be allowed to be loaded via this mode unless they are explicitly allowlisted by the user via `torch.serialization.add_safe_globals`. We recommend you start setting `weights_only=True` for any use case where you don't have full control of the loaded file. Please open an issue on GitHub for any issues related to this experimental feature.\n",
      "  new_model.load_state_dict(torch.load('my_really_awesome_iris_model.pt'))\n"
     ]
    },
    {
     "data": {
      "text/plain": [
       "<All keys matched successfully>"
      ]
     },
     "execution_count": 31,
     "metadata": {},
     "output_type": "execute_result"
    }
   ],
   "source": [
    "# Load the Saved Model\n",
    "new_model = Model()\n",
    "new_model.load_state_dict(torch.load('my_really_awesome_iris_model.pt'))"
   ]
  },
  {
   "cell_type": "code",
   "execution_count": 32,
   "metadata": {
    "colab": {
     "base_uri": "https://localhost:8080/"
    },
    "id": "rV_GTla9nyAa",
    "outputId": "8784f762-4c12-4cf5-c9dc-dfa3fbf3dbe0"
   },
   "outputs": [
    {
     "data": {
      "text/plain": [
       "Model(\n",
       "  (fc1): Linear(in_features=4, out_features=8, bias=True)\n",
       "  (fc2): Linear(in_features=8, out_features=9, bias=True)\n",
       "  (out): Linear(in_features=9, out_features=3, bias=True)\n",
       ")"
      ]
     },
     "execution_count": 32,
     "metadata": {},
     "output_type": "execute_result"
    }
   ],
   "source": [
    "# Make sure it loaded correctly\n",
    "new_model.eval()"
   ]
  },
  {
   "cell_type": "code",
   "execution_count": null,
   "metadata": {
    "id": "_SYJM4d0n1rb"
   },
   "outputs": [],
   "source": []
  },
  {
   "cell_type": "code",
   "execution_count": null,
   "metadata": {},
   "outputs": [],
   "source": []
  }
 ],
 "metadata": {
  "colab": {
   "authorship_tag": "ABX9TyMUpEgHNEUhEvvktBMAIcXc",
   "include_colab_link": true,
   "provenance": []
  },
  "kernelspec": {
   "display_name": "Python [conda env:base] *",
   "language": "python",
   "name": "conda-base-py"
  },
  "language_info": {
   "codemirror_mode": {
    "name": "ipython",
    "version": 3
   },
   "file_extension": ".py",
   "mimetype": "text/x-python",
   "name": "python",
   "nbconvert_exporter": "python",
   "pygments_lexer": "ipython3",
   "version": "3.12.7"
  }
 },
 "nbformat": 4,
 "nbformat_minor": 4
}
