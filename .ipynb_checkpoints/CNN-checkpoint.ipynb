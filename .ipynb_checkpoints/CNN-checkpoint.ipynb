{
 "cells": [
  {
   "cell_type": "markdown",
   "metadata": {
    "colab_type": "text",
    "id": "view-in-github"
   },
   "source": [
    "<a href=\"https://colab.research.google.com/github/flatplanet/Pytorch-Tutorial-Youtube/blob/main/CNN.ipynb\" target=\"_parent\"><img src=\"https://colab.research.google.com/assets/colab-badge.svg\" alt=\"Open In Colab\"/></a>"
   ]
  },
  {
   "cell_type": "code",
   "execution_count": 3,
   "metadata": {
    "id": "pzq2KGJtA10Z"
   },
   "outputs": [],
   "source": [
    "import torch\n",
    "import torch.nn as nn\n",
    "import torch.nn.functional as F\n",
    "from torch.utils.data import DataLoader\n",
    "from torchvision import datasets, transforms\n",
    "from torchvision.utils import make_grid\n",
    "\n",
    "import numpy as np\n",
    "import pandas as pd\n",
    "from sklearn.metrics import confusion_matrix\n",
    "import matplotlib.pyplot as plt\n",
    "%matplotlib inline"
   ]
  },
  {
   "cell_type": "code",
   "execution_count": 5,
   "metadata": {
    "id": "wIkFxQ7XCxfE"
   },
   "outputs": [],
   "source": [
    "# Convert MNIST Image Files into a Tensor of 4-Dimensions (# of images, Height, Width, Color Channels)\n",
    "transform = transforms.ToTensor()"
   ]
  },
  {
   "cell_type": "code",
   "execution_count": 7,
   "metadata": {
    "colab": {
     "base_uri": "https://localhost:8080/"
    },
    "id": "JP9tzrUZDUG0",
    "outputId": "d77b3c03-4e65-4ad6-9419-76c8e99ca016"
   },
   "outputs": [],
   "source": [
    "# Train Data loading\n",
    "#since data file ./cnn_data is already downloaded, set download = False\n",
    "train_data = datasets.MNIST(root='./cnn_data', train=True, download=True, transform=transform)"
   ]
  },
  {
   "cell_type": "code",
   "execution_count": 9,
   "metadata": {
    "id": "-VmmXY2uD3F7"
   },
   "outputs": [],
   "source": [
    "# Test Data loading\n",
    "test_data = datasets.MNIST(root='./cnn_data', train=False, download=True, transform=transform)"
   ]
  },
  {
   "cell_type": "code",
   "execution_count": 11,
   "metadata": {
    "colab": {
     "base_uri": "https://localhost:8080/"
    },
    "id": "yCjjaNraEBIT",
    "outputId": "3f13f824-2ce5-41ad-9de6-db47997bded3"
   },
   "outputs": [
    {
     "data": {
      "text/plain": [
       "Dataset MNIST\n",
       "    Number of datapoints: 60000\n",
       "    Root location: ./cnn_data\n",
       "    Split: Train\n",
       "    StandardTransform\n",
       "Transform: ToTensor()"
      ]
     },
     "execution_count": 11,
     "metadata": {},
     "output_type": "execute_result"
    }
   ],
   "source": [
    "train_data"
   ]
  },
  {
   "cell_type": "code",
   "execution_count": 13,
   "metadata": {
    "colab": {
     "base_uri": "https://localhost:8080/"
    },
    "id": "m5aAe5s7EGtb",
    "outputId": "2b89f63f-fa46-4780-c22a-694baa614493"
   },
   "outputs": [
    {
     "data": {
      "text/plain": [
       "Dataset MNIST\n",
       "    Number of datapoints: 10000\n",
       "    Root location: ./cnn_data\n",
       "    Split: Test\n",
       "    StandardTransform\n",
       "Transform: ToTensor()"
      ]
     },
     "execution_count": 13,
     "metadata": {},
     "output_type": "execute_result"
    }
   ],
   "source": [
    "test_data"
   ]
  },
  {
   "cell_type": "markdown",
   "metadata": {},
   "source": [
    "__Training data has 60000 images__ <br>\n",
    "__Testing data has 10000 images__"
   ]
  },
  {
   "cell_type": "code",
   "execution_count": 17,
   "metadata": {
    "id": "e0eRrW8Y06k_"
   },
   "outputs": [],
   "source": [
    "# Create a small batch size for images...let's say 10\n",
    "#Batch size = 10 images per batch\n",
    "#Total batches = 60000/10 = 6000\n",
    "#torch DataLoader stores images as tensor\n",
    "\n",
    "train_loader = DataLoader(train_data, batch_size=10, shuffle=True)\n",
    "test_loader = DataLoader(test_data, batch_size=10, shuffle=False)"
   ]
  },
  {
   "cell_type": "code",
   "execution_count": 19,
   "metadata": {
    "id": "XoxzDXYe1vyH"
   },
   "outputs": [],
   "source": [
    "# Define Our CNN Model\n",
    "# Describe convolutional layer and what it's doing (2 convolutional layers)\n",
    "# This is just an example in the next video we'll build out the actual model\n",
    "#nn.Conv2d(in_channels=1, out_channels=6, kernel_size=3, stride=1)\n",
    "#For gray scale image input_channel =1, for colored RGB image input_channel = 3\n",
    "\"\"\"\n",
    "out_channels=6\n",
    "\n",
    "    Number of output channels, or feature maps.\n",
    "\n",
    "    This means the layer will learn 6 different filters, each detecting different features.\n",
    "\n",
    "    The output of this layer will have shape: (batch_size, 6, H_out, W_out)\n",
    "stride=1\n",
    "        How many pixels the filter moves at each step.\n",
    "\n",
    "        A stride of 1 means the filter moves one pixel at a time (no skipping).\n",
    "\n",
    "If your input image is 28x28 (like MNIST), and you're using:\n",
    "    kernel_size=3\n",
    "\n",
    "    stride=1\n",
    "\n",
    "    padding=0\n",
    "\n",
    "Then the output size becomes:\n",
    "Output size=(28−3+2∗0)/1+1=26\n",
    "\n",
    "So the output shape = (batch_size, 6, 26, 26)\n",
    "\"\"\"\n",
    "conv1 = nn.Conv2d(1, 6, 3, 1)\n",
    "conv2 = nn.Conv2d(6, 16, 3, 1)\n"
   ]
  },
  {
   "cell_type": "code",
   "execution_count": 21,
   "metadata": {
    "id": "XGErCgu62lMe"
   },
   "outputs": [],
   "source": [
    "# Grab 1 MNIST record/image\n",
    "for i, (X_Train, y_train) in enumerate(train_data):\n",
    "  break"
   ]
  },
  {
   "cell_type": "code",
   "execution_count": 23,
   "metadata": {
    "colab": {
     "base_uri": "https://localhost:8080/"
    },
    "id": "M-ktWXri2uaY",
    "outputId": "a849873f-3eeb-4f0f-c7d8-dc381987f18c"
   },
   "outputs": [
    {
     "data": {
      "text/plain": [
       "torch.Size([1, 28, 28])"
      ]
     },
     "execution_count": 23,
     "metadata": {},
     "output_type": "execute_result"
    }
   ],
   "source": [
    "X_Train.shape"
   ]
  },
  {
   "cell_type": "code",
   "execution_count": 34,
   "metadata": {
    "id": "k4PLBMpl2w9-"
   },
   "outputs": [],
   "source": [
    "x = X_Train.view(1,1,28,28)\n",
    "#.view(N,C,H,W), where N = number of images in batch, C=inp channel (1 for grayscale), Height of images, width of images\n",
    "#MNIST data are grayscale images with 28x28 pixel size\n",
    "#.view reshapes the tensor to the shape (N,C,H,W)\n",
    "#the format is needed when feeding data into CNN"
   ]
  },
  {
   "cell_type": "code",
   "execution_count": 36,
   "metadata": {
    "id": "Ifp65r6N3GUm"
   },
   "outputs": [],
   "source": [
    "# Perform our first convolution\n",
    "x = F.relu(conv1(x)) # Rectified Linear Unit for our activation function"
   ]
  },
  {
   "cell_type": "code",
   "execution_count": 38,
   "metadata": {
    "colab": {
     "base_uri": "https://localhost:8080/"
    },
    "id": "cce10qGv3ZE1",
    "outputId": "a9bf8c3e-be3d-4361-fd62-968e94854b56"
   },
   "outputs": [
    {
     "data": {
      "text/plain": [
       "torch.Size([1, 6, 26, 26])"
      ]
     },
     "execution_count": 38,
     "metadata": {},
     "output_type": "execute_result"
    }
   ],
   "source": [
    "# 1 single image, 6 is the filters we asked for, 26x26\n",
    "x.shape"
   ]
  },
  {
   "cell_type": "code",
   "execution_count": 40,
   "metadata": {
    "id": "3RL8-mJ83atV"
   },
   "outputs": [],
   "source": [
    "# pass thru the pooling layer\n",
    "x = F.max_pool2d(x,2,2) # kernal of 2 and stride of 2"
   ]
  },
  {
   "cell_type": "code",
   "execution_count": 42,
   "metadata": {
    "colab": {
     "base_uri": "https://localhost:8080/"
    },
    "id": "MOns4Ny54Xc1",
    "outputId": "7d9b46ed-7c82-4b62-f238-498825e2bc23"
   },
   "outputs": [
    {
     "data": {
      "text/plain": [
       "torch.Size([1, 6, 13, 13])"
      ]
     },
     "execution_count": 42,
     "metadata": {},
     "output_type": "execute_result"
    }
   ],
   "source": [
    "x.shape # 26 / 2 = 13"
   ]
  },
  {
   "cell_type": "code",
   "execution_count": 44,
   "metadata": {
    "id": "BFfBnCcA4iNs"
   },
   "outputs": [],
   "source": [
    "# Do our second convolutional layer\n",
    "x = F.relu(conv2(x))"
   ]
  },
  {
   "cell_type": "code",
   "execution_count": 46,
   "metadata": {
    "colab": {
     "base_uri": "https://localhost:8080/"
    },
    "id": "JbPoQDoz5Gcb",
    "outputId": "88f940e9-982f-4d79-e63c-69759596b918"
   },
   "outputs": [
    {
     "data": {
      "text/plain": [
       "torch.Size([1, 16, 11, 11])"
      ]
     },
     "execution_count": 46,
     "metadata": {},
     "output_type": "execute_result"
    }
   ],
   "source": [
    "x.shape # Again, we didn't set padding so we lose 2 pixles around the outside of the image"
   ]
  },
  {
   "cell_type": "code",
   "execution_count": 48,
   "metadata": {
    "id": "iInQRYSj5I7D"
   },
   "outputs": [],
   "source": [
    "# Pooling layer\n",
    "x = F.max_pool2d(x,2,2)"
   ]
  },
  {
   "cell_type": "code",
   "execution_count": 50,
   "metadata": {
    "colab": {
     "base_uri": "https://localhost:8080/"
    },
    "id": "M0Ft-CnP5a8l",
    "outputId": "353fd08b-2e42-4504-f2f0-f1e8005d5a0e"
   },
   "outputs": [
    {
     "data": {
      "text/plain": [
       "torch.Size([1, 16, 5, 5])"
      ]
     },
     "execution_count": 50,
     "metadata": {},
     "output_type": "execute_result"
    }
   ],
   "source": [
    "x.shape # 11 / 2 = 5.5 but we have to round down, because you can't invent data to round up"
   ]
  },
  {
   "cell_type": "code",
   "execution_count": 54,
   "metadata": {
    "colab": {
     "base_uri": "https://localhost:8080/"
    },
    "id": "zXMdLoew5fG7",
    "outputId": "f898afd3-8521-4c18-f836-4055aac77e80"
   },
   "outputs": [
    {
     "data": {
      "text/plain": [
       "5.5"
      ]
     },
     "execution_count": 54,
     "metadata": {},
     "output_type": "execute_result"
    }
   ],
   "source": [
    "((28-2) / 2 - 2) / 2"
   ]
  },
  {
   "cell_type": "code",
   "execution_count": 25,
   "metadata": {
    "id": "dLzDidbe52fz"
   },
   "outputs": [],
   "source": [
    "\"\"\"\n",
    "self.fc1 = nn.Linear(5*5*16, 120)\n",
    "\n",
    "    This is the first fully connected layer.\n",
    "\n",
    "    You're flattening the 3D feature maps from conv2's output to a 1D vector.\n",
    "    5×5×16=400 features\n",
    "    5×5×16=400 features\n",
    "\n",
    "    This layer maps 400 input features to 120 outputs.\n",
    "Summary of flow:\n",
    "Input:        (1, 28, 28)\n",
    "conv1:        (6, 26, 26)\n",
    "MaxPool:      (6, 13, 13)\n",
    "conv2:        (16, 11, 11)\n",
    "MaxPool:      (16, 5, 5)\n",
    "Flatten:      400\n",
    "fc1:          120\n",
    "\"\"\"\n",
    "# Model Class\n",
    "class ConvolutionalNetwork(nn.Module):\n",
    "  def __init__(self):\n",
    "    super().__init__()\n",
    "    self.conv1 = nn.Conv2d(1,6,3,1) #This layer scans over the input image and extracts 6 different low-level features, such as edges and corners.\n",
    "    self.conv2 = nn.Conv2d(6,16,3,1) #This further processes the 6-channel output from conv1, learning 16 more abstract features from combinations of the previous ones.\n",
    "    # Fully Connected Layer\n",
    "    self.fc1 = nn.Linear(5*5*16, 120) #5*5*16--output of conv2\n",
    "    self.fc2 = nn.Linear(120, 84)\n",
    "    self.fc3 = nn.Linear(84, 10) #last layer has 10 as classification is of 0 - 9 digits\n",
    "\n",
    "  def forward(self, X):\n",
    "    X = F.relu(self.conv1(X))\n",
    "    X = F.max_pool2d(X,2,2) # 2x2 kernal and stride 2\n",
    "    # Second Pass\n",
    "    X = F.relu(self.conv2(X))\n",
    "    X = F.max_pool2d(X,2,2) # 2x2 kernal and stride 2\n",
    "\n",
    "    # Re-View to flatten it out\n",
    "    X = X.view(-1, 16*5*5) # negative one so that we can vary the batch size\n",
    "\n",
    "    # Fully Connected Layers\n",
    "    X = F.relu(self.fc1(X))\n",
    "    X = F.relu(self.fc2(X))\n",
    "    X = self.fc3(X)\n",
    "    return F.log_softmax(X, dim=1)\n",
    "      "
   ]
  },
  {
   "cell_type": "code",
   "execution_count": 27,
   "metadata": {
    "colab": {
     "base_uri": "https://localhost:8080/"
    },
    "id": "Pv-eSNLRMhuk",
    "outputId": "3f60490a-0a62-46b3-d0ea-bc262919e4f1"
   },
   "outputs": [
    {
     "data": {
      "text/plain": [
       "ConvolutionalNetwork(\n",
       "  (conv1): Conv2d(1, 6, kernel_size=(3, 3), stride=(1, 1))\n",
       "  (conv2): Conv2d(6, 16, kernel_size=(3, 3), stride=(1, 1))\n",
       "  (fc1): Linear(in_features=400, out_features=120, bias=True)\n",
       "  (fc2): Linear(in_features=120, out_features=84, bias=True)\n",
       "  (fc3): Linear(in_features=84, out_features=10, bias=True)\n",
       ")"
      ]
     },
     "execution_count": 27,
     "metadata": {},
     "output_type": "execute_result"
    }
   ],
   "source": [
    "# Create an Instance of our Model\n",
    "torch.manual_seed(41)\n",
    "model = ConvolutionalNetwork()\n",
    "model"
   ]
  },
  {
   "cell_type": "code",
   "execution_count": null,
   "metadata": {
    "id": "SvJdPVSjQUwr"
   },
   "outputs": [],
   "source": []
  },
  {
   "cell_type": "code",
   "execution_count": 29,
   "metadata": {
    "id": "JGI34hBqPwqQ"
   },
   "outputs": [],
   "source": [
    "# Loss Function Optimizer\n",
    "criterion = nn.CrossEntropyLoss()\n",
    "optimizer = torch.optim.Adam(model.parameters(), lr=0.001) # Smaller the Learning Rate, longer its gonna take to train."
   ]
  },
  {
   "cell_type": "code",
   "execution_count": 49,
   "metadata": {
    "colab": {
     "base_uri": "https://localhost:8080/"
    },
    "id": "lWA5hBFKQSZJ",
    "outputId": "8b5e4203-85d2-4df3-9eb2-bec8e7b209e3"
   },
   "outputs": [
    {
     "name": "stdout",
     "output_type": "stream",
     "text": [
      "Epoch: 0  Batch: 6000  Loss: 0.00029827054822817445\n",
      "Epoch: 1  Batch: 6000  Loss: 1.4790947437286377\n",
      "Epoch: 2  Batch: 6000  Loss: 0.006457450333982706\n",
      "Epoch: 3  Batch: 6000  Loss: 0.001380933215841651\n",
      "Epoch: 4  Batch: 6000  Loss: 0.005783164408057928\n",
      "Training Took: 3.984310472011566 minutes!\n"
     ]
    }
   ],
   "source": [
    "\"\"\"\n",
    "torch.max(y_pred.data, 1) returns a tuple:\n",
    "\n",
    "The max values (not used here)\n",
    "\n",
    "The indices of those max values — i.e., the predicted class for each sample.\n",
    "\n",
    "[1] extracts the class indices.\n",
    "\n",
    "Shape: predicted is a tensor of shape (batch_size,), with the predicted class label for each image.\n",
    "\n",
    "\n",
    "y_pred is the output of the forward pass through your neural network.\n",
    "If you're doing image classification (like on MNIST), and:\n",
    "Your batch size = N\n",
    "You have 10 output classes (digits 0 through 9)\n",
    "y_pred.shape  -->  torch.Size([N, 10])\n",
    "Each row of y_pred is a vector of raw scores (logits) for the 10 classes. So for a single image, the output might look like:\n",
    "tensor([1.2, -0.8, 0.3, 2.1, 0.5, -1.1, 0.0, 0.9, -0.4, 0.7])\n",
    "The index of the highest value in this vector is the predicted class.\n",
    "If you're using CrossEntropyLoss, you can pass y_pred directly to the loss function.\n",
    "To get actual predicted class labels:\n",
    "_, predicted = torch.max(y_pred, 1)\n",
    "\"\"\"\n",
    "import time\n",
    "start_time = time.time()\n",
    "\n",
    "# Create Variables To Tracks Things\n",
    "epochs = 5\n",
    "train_losses = []\n",
    "test_losses = []\n",
    "train_correct = []\n",
    "test_correct = []\n",
    "\n",
    "# For Loop of Epochs\n",
    "for i in range(epochs):\n",
    "  trn_corr = 0\n",
    "  tst_corr = 0\n",
    "\n",
    "\n",
    "  # Train\n",
    "  for b,(X_train, y_train) in enumerate(train_loader):\n",
    "    b+=1 # start our batches at 1\n",
    "    y_pred = model(X_train) # this gives a and output of (N,#o/p classes), where each row has the probability value for that class\n",
    "\n",
    "    # how off are we? Compare the predictions to correct answers in y_train. o/p is of type tensor(0.85, grad_fn=<NllLossBackward>)\n",
    "    #This 0.85 means the model's predictions are moderately off from the true labels.\n",
    "    loss = criterion(y_pred, y_train) \n",
    "      \n",
    "    #print('y_pred,y_pred.shape,loss.shape',y_pred,y_pred.shape,loss)\n",
    "    predicted = torch.max(y_pred.data, 1)[1] # add up the number of correct predictions. Indexed off the first point, tensor of size #o/p class\n",
    "    batch_corr = (predicted == y_train).sum() # how many we got correct from this batch. True = 1, False=0, sum those up\n",
    "    trn_corr += batch_corr # keep track as we go along in training.\n",
    "    #print('predicted,y_train',predicted,y_train)\n",
    "    #print('predicted.size(),y_train.size',predicted.size(),y_train.size())\n",
    "    # Update our parameters\n",
    "    optimizer.zero_grad()\n",
    "    loss.backward()\n",
    "    optimizer.step()\n",
    "\n",
    "    #tr = ahs\n",
    "    # Print out some results\n",
    "    if b%6000 == 0:\n",
    "      print(f'Epoch: {i}  Batch: {b}  Loss: {loss.item()}')\n",
    "\n",
    "  train_losses.append(loss)\n",
    "  train_correct.append(trn_corr)\n",
    "\n",
    "\n",
    "  # Test\n",
    "  with torch.no_grad(): #No gradient so we don't update our weights and biases with test data\n",
    "    for b,(X_test, y_test) in enumerate(test_loader):\n",
    "      y_val = model(X_test)\n",
    "      predicted = torch.max(y_val.data, 1)[1] # Adding up correct predictions\n",
    "      X_Train.view(1,1,28,28)\n",
    "      tst_corr += (predicted == y_test).sum() # T=1 F=0 and sum away\n",
    "\n",
    "\n",
    "      loss = criterion(y_val, y_test)\n",
    "    test_losses.append(loss)\n",
    "    test_correct.append(tst_corr)\n",
    "\n",
    "\n",
    "\n",
    "current_time = time.time()\n",
    "total = current_time - start_time\n",
    "print(f'Training Took: {total/60} minutes!')"
   ]
  },
  {
   "cell_type": "code",
   "execution_count": 53,
   "metadata": {
    "colab": {
     "base_uri": "https://localhost:8080/",
     "height": 469
    },
    "id": "fYn-Mn2NZ3bq",
    "outputId": "6c5038a8-e8ab-48ce-96b4-c2bf22ac9d94"
   },
   "outputs": [
    {
     "data": {
      "image/png": "[encoded data removed]",
      "text/plain": [
       "<Figure size 640x480 with 1 Axes>"
      ]
     },
     "metadata": {},
     "output_type": "display_data"
    },
    {
     "name": "stdout",
     "output_type": "stream",
     "text": [
      "[tensor(0.0003, grad_fn=<NllLossBackward0>), tensor(1.4791, grad_fn=<NllLossBackward0>), tensor(0.0065, grad_fn=<NllLossBackward0>), tensor(0.0014, grad_fn=<NllLossBackward0>), tensor(0.0058, grad_fn=<NllLossBackward0>)] [tensor(4.1445e-05), tensor(3.3076e-05), tensor(0.0005), tensor(0.0044), tensor(5.0306e-06)]\n"
     ]
    }
   ],
   "source": [
    "# Graph the loss at epoch\n",
    "train_losses_list = [tl.item() for tl in train_losses]\n",
    "plt.plot(train_losses_list, label=\"Training Loss\")\n",
    "plt.plot(test_losses, label=\"Validation Loss\")\n",
    "plt.title(\"Loss at Epoch\")\n",
    "plt.legend()\n",
    "plt.show()\n",
    "\n",
    "print(train_losses,test_losses)"
   ]
  },
  {
   "cell_type": "markdown",
   "metadata": {
    "id": "9FzwQQzHMh3Q"
   },
   "source": []
  },
  {
   "cell_type": "code",
   "execution_count": 55,
   "metadata": {
    "colab": {
     "base_uri": "https://localhost:8080/",
     "height": 469
    },
    "id": "hZ0zfSZda0hR",
    "outputId": "4705d359-c28b-4b6d-9b06-3f50d0b135a4"
   },
   "outputs": [
    {
     "data": {
      "image/png": "[encoded data removed]",
      "text/plain": [
       "<Figure size 640x480 with 1 Axes>"
      ]
     },
     "metadata": {},
     "output_type": "display_data"
    },
    {
     "name": "stdout",
     "output_type": "stream",
     "text": [
      "[tensor(59544), tensor(59615), tensor(59653), tensor(59700), tensor(59749)]\n",
      "[tensor(99.2400), tensor(99.3583), tensor(99.4217), tensor(99.5000), tensor(99.5817)]\n"
     ]
    }
   ],
   "source": [
    "# graph the accuracy at the end of each epoch\n",
    "plt.plot([t/600 for t in train_correct], label=\"Training Accuracy\")\n",
    "plt.plot([t/100 for t in test_correct], label=\"Validation Accuracy\")\n",
    "plt.title(\"Accuracy at the end of each Epoch\")\n",
    "plt.legend()\n",
    "plt.show()\n",
    "\n",
    "print(train_correct)\n",
    "print([t/600 for t in train_correct])"
   ]
  },
  {
   "cell_type": "code",
   "execution_count": null,
   "metadata": {
    "id": "fFyeJA2LbTMd"
   },
   "outputs": [],
   "source": [
    "test_load_everything = DataLoader(test_data, batch_size=10000, shuffle=False)"
   ]
  },
  {
   "cell_type": "code",
   "execution_count": null,
   "metadata": {
    "id": "MRhPJk8-bhsW"
   },
   "outputs": [],
   "source": [
    "with torch.no_grad():\n",
    "  correct = 0\n",
    "  for X_test, y_test in test_load_everything:\n",
    "    y_val = model(X_test)\n",
    "    predicted = torch.max(y_val, 1)[1]\n",
    "    correct += (predicted == y_test).sum()"
   ]
  },
  {
   "cell_type": "code",
   "execution_count": null,
   "metadata": {
    "colab": {
     "base_uri": "https://localhost:8080/"
    },
    "id": "GmLHxNVybzhN",
    "outputId": "52db2dd0-26bb-4b42-a78a-0ce09323454c"
   },
   "outputs": [],
   "source": [
    "# Did for correct\n",
    "correct.item()/len(test_data)*100"
   ]
  },
  {
   "cell_type": "code",
   "execution_count": null,
   "metadata": {
    "colab": {
     "base_uri": "https://localhost:8080/"
    },
    "id": "_Rtkg6Kzb9uN",
    "outputId": "ae4296e5-2632-48cb-e4ab-95aad11e7105"
   },
   "outputs": [],
   "source": [
    "# Grab an image\n",
    "test_data[1978] # Tensor with an image in it...at end, it shows the label"
   ]
  },
  {
   "cell_type": "code",
   "execution_count": null,
   "metadata": {
    "colab": {
     "base_uri": "https://localhost:8080/"
    },
    "id": "XLUm7QpV9qq3",
    "outputId": "b79bd240-9252-4c01-ee3b-792645349a8a"
   },
   "outputs": [],
   "source": [
    "# Grab just the data\n",
    "test_data[1978][0]"
   ]
  },
  {
   "cell_type": "code",
   "execution_count": null,
   "metadata": {
    "colab": {
     "base_uri": "https://localhost:8080/"
    },
    "id": "QJVv6cHH901Y",
    "outputId": "235d0fdc-b2a0-42c0-dc24-a5da11234c33"
   },
   "outputs": [],
   "source": [
    "# Reshape it\n",
    "test_data[1978][0].reshape(28,28)"
   ]
  },
  {
   "cell_type": "code",
   "execution_count": null,
   "metadata": {
    "colab": {
     "base_uri": "https://localhost:8080/",
     "height": 447
    },
    "id": "38B5vnmo97tW",
    "outputId": "45699cb3-d706-4013-d2d7-8c257ed221af"
   },
   "outputs": [],
   "source": [
    "# Show the image\n",
    "plt.imshow(test_data[1978][0].reshape(28,28))\n",
    "plt.show()"
   ]
  },
  {
   "cell_type": "code",
   "execution_count": null,
   "metadata": {
    "id": "YHv96q_j-BWl"
   },
   "outputs": [],
   "source": [
    "# Pass the image thru our model\n",
    "model.eval()\n",
    "with torch.no_grad():\n",
    "  new_prediction = model(test_data[1978][0].view(1,1,28,28)) # batch size of 1, 1 color channel, 28x28 image"
   ]
  },
  {
   "cell_type": "code",
   "execution_count": 1,
   "metadata": {
    "colab": {
     "base_uri": "https://localhost:8080/"
    },
    "id": "5VsRq8sZ-X9v",
    "outputId": "1813847d-d5be-4aab-897b-96d71087dc3b"
   },
   "outputs": [
    {
     "ename": "NameError",
     "evalue": "name 'new_prediction' is not defined",
     "output_type": "error",
     "traceback": [
      "\u001b[0;31m---------------------------------------------------------------------------\u001b[0m",
      "\u001b[0;31mNameError\u001b[0m                                 Traceback (most recent call last)",
      "Cell \u001b[0;32mIn[1], line 2\u001b[0m\n\u001b[1;32m      1\u001b[0m \u001b[38;5;66;03m# Check the new prediction...get probabilities\u001b[39;00m\n\u001b[0;32m----> 2\u001b[0m new_prediction\n",
      "\u001b[0;31mNameError\u001b[0m: name 'new_prediction' is not defined"
     ]
    }
   ],
   "source": [
    "# Check the new prediction...get probabilities\n",
    "new_prediction"
   ]
  },
  {
   "cell_type": "code",
   "execution_count": null,
   "metadata": {
    "colab": {
     "base_uri": "https://localhost:8080/"
    },
    "id": "LSw7PFQ--c4t",
    "outputId": "4184ade0-5eb0-48f5-ed51-563726d0dde5"
   },
   "outputs": [],
   "source": [
    "new_prediction.argmax()"
   ]
  },
  {
   "cell_type": "code",
   "execution_count": null,
   "metadata": {
    "id": "g7747WTR-mE9"
   },
   "outputs": [],
   "source": []
  }
 ],
 "metadata": {
  "colab": {
   "authorship_tag": "ABX9TyPdXzQI701cSe2VtpjkfURw",
   "include_colab_link": true,
   "provenance": []
  },
  "kernelspec": {
   "display_name": "Python [conda env:base] *",
   "language": "python",
   "name": "conda-base-py"
  },
  "language_info": {
   "codemirror_mode": {
    "name": "ipython",
    "version": 3
   },
   "file_extension": ".py",
   "mimetype": "text/x-python",
   "name": "python",
   "nbconvert_exporter": "python",
   "pygments_lexer": "ipython3",
   "version": "3.12.7"
  }
 },
 "nbformat": 4,
 "nbformat_minor": 4
}
