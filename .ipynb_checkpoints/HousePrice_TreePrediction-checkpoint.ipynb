{
 "cells": [
  {
   "cell_type": "markdown",
   "id": "364c202a-0988-42d2-9265-7852cd32b469",
   "metadata": {},
   "source": [
    "# Machine Learning Regression Problem \n",
    "\n",
    "## Predicting Price of a House\n"
   ]
  },
  {
   "cell_type": "markdown",
   "id": "ca97f476-7ad6-44da-8a2a-89ab163c889c",
   "metadata": {},
   "source": []
  },
  {
   "cell_type": "markdown",
   "id": "4cb4419a-6edf-4d52-9cea-708f83ae2557",
   "metadata": {},
   "source": [
    "# Using Decision Trees"
   ]
  },
  {
   "cell_type": "code",
   "execution_count": 1,
   "id": "ef1b78c8-f43f-44e5-8285-859dfc7eeb74",
   "metadata": {},
   "outputs": [
    {
     "name": "stdout",
     "output_type": "stream",
     "text": [
      "Index(['Suburb', 'Address', 'Rooms', 'Type', 'Price', 'Method', 'SellerG',\n",
      "       'Date', 'Distance', 'Postcode', 'Bedroom2', 'Bathroom', 'Car',\n",
      "       'Landsize', 'BuildingArea', 'YearBuilt', 'CouncilArea', 'Lattitude',\n",
      "       'Longtitude', 'Regionname', 'Propertycount'],\n",
      "      dtype='object')\n"
     ]
    }
   ],
   "source": [
    "import pandas as pd\n",
    "\n",
    "# Load data\n",
    "melbourne_file_path = '/home/gitika/My_Home/Python_ML_CNN/Regression/Melbourne_housing_FULL_with_missing.csv'\n",
    "# read the data and store data in DataFrame titled melbourne_data\n",
    "melbourne_data = pd.read_csv(melbourne_file_path) \n",
    "# print a summary of the data in Melbourne data\n",
    "melbourne_data.describe()\n",
    "\n",
    "#read the title (features) of the data\n",
    "print(melbourne_data.columns)"
   ]
  },
  {
   "cell_type": "code",
   "execution_count": 15,
   "id": "e8a0a15e-9b71-4035-9a24-9069f5a1e990",
   "metadata": {},
   "outputs": [
    {
     "data": {
      "text/plain": [
       "2        2.0\n",
       "4        3.0\n",
       "11       3.0\n",
       "14       2.0\n",
       "18       2.0\n",
       "        ... \n",
       "34847    3.0\n",
       "34849    3.0\n",
       "34853    2.0\n",
       "34854    2.0\n",
       "34856    2.0\n",
       "Name: Rooms, Length: 8886, dtype: float64"
      ]
     },
     "execution_count": 15,
     "metadata": {},
     "output_type": "execute_result"
    }
   ],
   "source": [
    "# Filter rows with missing price values\n",
    "filtered_melbourne_data = melbourne_data.dropna(axis=0)\n",
    "\n",
    "# Choose target and input features\n",
    "y = filtered_melbourne_data.Price\n",
    "\n",
    "melbourne_features = ['Rooms', 'Bathroom', 'Landsize', 'BuildingArea', \n",
    "                        'YearBuilt', 'Lattitude', 'Longtitude']\n",
    "X = filtered_melbourne_data[melbourne_features]\n",
    "X.head() "
   ]
  },
  {
   "cell_type": "code",
   "execution_count": 129,
   "id": "7ff97e98-c6d5-4f39-afba-b25375348574",
   "metadata": {},
   "outputs": [],
   "source": [
    "from sklearn.model_selection import train_test_split\n",
    "train_X, val_X, train_y, val_y = train_test_split(X, y, random_state=1)\n",
    "#train_X, val_X, train_y, val_Y = train_test_split(X, y, train_size=0.8, test_size=0.2,random_state=0)"
   ]
  },
  {
   "cell_type": "markdown",
   "id": "82c80e19-2995-4ecb-8317-0082d6516702",
   "metadata": {},
   "source": [
    "# Model Building\n",
    "\n",
    "- __Define__ : type of model, here we'll use DecisionTreeRegressor model\n",
    "- __Fit__ : Find patterns in the data\n",
    "- __Predict__ : Use the test data to predict\n",
    "- __Validate__ : Determine the accuracy of the models predictions using loss functions (here MAE is used)"
   ]
  },
  {
   "cell_type": "code",
   "execution_count": 20,
   "id": "3f72f6ed-b8bb-4514-85c0-5d0dcfc83d77",
   "metadata": {},
   "outputs": [
    {
     "data": {
      "text/html": [
       "<style>#sk-container-id-1 {\n",
       "  /* Definition of color scheme common for light and dark mode */\n",
       "  --sklearn-color-text: black;\n",
       "  --sklearn-color-line: gray;\n",
       "  /* Definition of color scheme for unfitted estimators */\n",
       "  --sklearn-color-unfitted-level-0: #fff5e6;\n",
       "  --sklearn-color-unfitted-level-1: #f6e4d2;\n",
       "  --sklearn-color-unfitted-level-2: #ffe0b3;\n",
       "  --sklearn-color-unfitted-level-3: chocolate;\n",
       "  /* Definition of color scheme for fitted estimators */\n",
       "  --sklearn-color-fitted-level-0: #f0f8ff;\n",
       "  --sklearn-color-fitted-level-1: #d4ebff;\n",
       "  --sklearn-color-fitted-level-2: #b3dbfd;\n",
       "  --sklearn-color-fitted-level-3: cornflowerblue;\n",
       "\n",
       "  /* Specific color for light theme */\n",
       "  --sklearn-color-text-on-default-background: var(--sg-text-color, var(--theme-code-foreground, var(--jp-content-font-color1, black)));\n",
       "  --sklearn-color-background: var(--sg-background-color, var(--theme-background, var(--jp-layout-color0, white)));\n",
       "  --sklearn-color-border-box: var(--sg-text-color, var(--theme-code-foreground, var(--jp-content-font-color1, black)));\n",
       "  --sklearn-color-icon: #696969;\n",
       "\n",
       "  @media (prefers-color-scheme: dark) {\n",
       "    /* Redefinition of color scheme for dark theme */\n",
       "    --sklearn-color-text-on-default-background: var(--sg-text-color, var(--theme-code-foreground, var(--jp-content-font-color1, white)));\n",
       "    --sklearn-color-background: var(--sg-background-color, var(--theme-background, var(--jp-layout-color0, #111)));\n",
       "    --sklearn-color-border-box: var(--sg-text-color, var(--theme-code-foreground, var(--jp-content-font-color1, white)));\n",
       "    --sklearn-color-icon: #878787;\n",
       "  }\n",
       "}\n",
       "\n",
       "#sk-container-id-1 {\n",
       "  color: var(--sklearn-color-text);\n",
       "}\n",
       "\n",
       "#sk-container-id-1 pre {\n",
       "  padding: 0;\n",
       "}\n",
       "\n",
       "#sk-container-id-1 input.sk-hidden--visually {\n",
       "  border: 0;\n",
       "  clip: rect(1px 1px 1px 1px);\n",
       "  clip: rect(1px, 1px, 1px, 1px);\n",
       "  height: 1px;\n",
       "  margin: -1px;\n",
       "  overflow: hidden;\n",
       "  padding: 0;\n",
       "  position: absolute;\n",
       "  width: 1px;\n",
       "}\n",
       "\n",
       "#sk-container-id-1 div.sk-dashed-wrapped {\n",
       "  border: 1px dashed var(--sklearn-color-line);\n",
       "  margin: 0 0.4em 0.5em 0.4em;\n",
       "  box-sizing: border-box;\n",
       "  padding-bottom: 0.4em;\n",
       "  background-color: var(--sklearn-color-background);\n",
       "}\n",
       "\n",
       "#sk-container-id-1 div.sk-container {\n",
       "  /* jupyter's `normalize.less` sets `[hidden] { display: none; }`\n",
       "     but bootstrap.min.css set `[hidden] { display: none !important; }`\n",
       "     so we also need the `!important` here to be able to override the\n",
       "     default hidden behavior on the sphinx rendered scikit-learn.org.\n",
       "     See: https://github.com/scikit-learn/scikit-learn/issues/21755 */\n",
       "  display: inline-block !important;\n",
       "  position: relative;\n",
       "}\n",
       "\n",
       "#sk-container-id-1 div.sk-text-repr-fallback {\n",
       "  display: none;\n",
       "}\n",
       "\n",
       "div.sk-parallel-item,\n",
       "div.sk-serial,\n",
       "div.sk-item {\n",
       "  /* draw centered vertical line to link estimators */\n",
       "  background-image: linear-gradient(var(--sklearn-color-text-on-default-background), var(--sklearn-color-text-on-default-background));\n",
       "  background-size: 2px 100%;\n",
       "  background-repeat: no-repeat;\n",
       "  background-position: center center;\n",
       "}\n",
       "\n",
       "/* Parallel-specific style estimator block */\n",
       "\n",
       "#sk-container-id-1 div.sk-parallel-item::after {\n",
       "  content: \"\";\n",
       "  width: 100%;\n",
       "  border-bottom: 2px solid var(--sklearn-color-text-on-default-background);\n",
       "  flex-grow: 1;\n",
       "}\n",
       "\n",
       "#sk-container-id-1 div.sk-parallel {\n",
       "  display: flex;\n",
       "  align-items: stretch;\n",
       "  justify-content: center;\n",
       "  background-color: var(--sklearn-color-background);\n",
       "  position: relative;\n",
       "}\n",
       "\n",
       "#sk-container-id-1 div.sk-parallel-item {\n",
       "  display: flex;\n",
       "  flex-direction: column;\n",
       "}\n",
       "\n",
       "#sk-container-id-1 div.sk-parallel-item:first-child::after {\n",
       "  align-self: flex-end;\n",
       "  width: 50%;\n",
       "}\n",
       "\n",
       "#sk-container-id-1 div.sk-parallel-item:last-child::after {\n",
       "  align-self: flex-start;\n",
       "  width: 50%;\n",
       "}\n",
       "\n",
       "#sk-container-id-1 div.sk-parallel-item:only-child::after {\n",
       "  width: 0;\n",
       "}\n",
       "\n",
       "/* Serial-specific style estimator block */\n",
       "\n",
       "#sk-container-id-1 div.sk-serial {\n",
       "  display: flex;\n",
       "  flex-direction: column;\n",
       "  align-items: center;\n",
       "  background-color: var(--sklearn-color-background);\n",
       "  padding-right: 1em;\n",
       "  padding-left: 1em;\n",
       "}\n",
       "\n",
       "\n",
       "/* Toggleable style: style used for estimator/Pipeline/ColumnTransformer box that is\n",
       "clickable and can be expanded/collapsed.\n",
       "- Pipeline and ColumnTransformer use this feature and define the default style\n",
       "- Estimators will overwrite some part of the style using the `sk-estimator` class\n",
       "*/\n",
       "\n",
       "/* Pipeline and ColumnTransformer style (default) */\n",
       "\n",
       "#sk-container-id-1 div.sk-toggleable {\n",
       "  /* Default theme specific background. It is overwritten whether we have a\n",
       "  specific estimator or a Pipeline/ColumnTransformer */\n",
       "  background-color: var(--sklearn-color-background);\n",
       "}\n",
       "\n",
       "/* Toggleable label */\n",
       "#sk-container-id-1 label.sk-toggleable__label {\n",
       "  cursor: pointer;\n",
       "  display: block;\n",
       "  width: 100%;\n",
       "  margin-bottom: 0;\n",
       "  padding: 0.5em;\n",
       "  box-sizing: border-box;\n",
       "  text-align: center;\n",
       "}\n",
       "\n",
       "#sk-container-id-1 label.sk-toggleable__label-arrow:before {\n",
       "  /* Arrow on the left of the label */\n",
       "  content: \"▸\";\n",
       "  float: left;\n",
       "  margin-right: 0.25em;\n",
       "  color: var(--sklearn-color-icon);\n",
       "}\n",
       "\n",
       "#sk-container-id-1 label.sk-toggleable__label-arrow:hover:before {\n",
       "  color: var(--sklearn-color-text);\n",
       "}\n",
       "\n",
       "/* Toggleable content - dropdown */\n",
       "\n",
       "#sk-container-id-1 div.sk-toggleable__content {\n",
       "  max-height: 0;\n",
       "  max-width: 0;\n",
       "  overflow: hidden;\n",
       "  text-align: left;\n",
       "  /* unfitted */\n",
       "  background-color: var(--sklearn-color-unfitted-level-0);\n",
       "}\n",
       "\n",
       "#sk-container-id-1 div.sk-toggleable__content.fitted {\n",
       "  /* fitted */\n",
       "  background-color: var(--sklearn-color-fitted-level-0);\n",
       "}\n",
       "\n",
       "#sk-container-id-1 div.sk-toggleable__content pre {\n",
       "  margin: 0.2em;\n",
       "  border-radius: 0.25em;\n",
       "  color: var(--sklearn-color-text);\n",
       "  /* unfitted */\n",
       "  background-color: var(--sklearn-color-unfitted-level-0);\n",
       "}\n",
       "\n",
       "#sk-container-id-1 div.sk-toggleable__content.fitted pre {\n",
       "  /* unfitted */\n",
       "  background-color: var(--sklearn-color-fitted-level-0);\n",
       "}\n",
       "\n",
       "#sk-container-id-1 input.sk-toggleable__control:checked~div.sk-toggleable__content {\n",
       "  /* Expand drop-down */\n",
       "  max-height: 200px;\n",
       "  max-width: 100%;\n",
       "  overflow: auto;\n",
       "}\n",
       "\n",
       "#sk-container-id-1 input.sk-toggleable__control:checked~label.sk-toggleable__label-arrow:before {\n",
       "  content: \"▾\";\n",
       "}\n",
       "\n",
       "/* Pipeline/ColumnTransformer-specific style */\n",
       "\n",
       "#sk-container-id-1 div.sk-label input.sk-toggleable__control:checked~label.sk-toggleable__label {\n",
       "  color: var(--sklearn-color-text);\n",
       "  background-color: var(--sklearn-color-unfitted-level-2);\n",
       "}\n",
       "\n",
       "#sk-container-id-1 div.sk-label.fitted input.sk-toggleable__control:checked~label.sk-toggleable__label {\n",
       "  background-color: var(--sklearn-color-fitted-level-2);\n",
       "}\n",
       "\n",
       "/* Estimator-specific style */\n",
       "\n",
       "/* Colorize estimator box */\n",
       "#sk-container-id-1 div.sk-estimator input.sk-toggleable__control:checked~label.sk-toggleable__label {\n",
       "  /* unfitted */\n",
       "  background-color: var(--sklearn-color-unfitted-level-2);\n",
       "}\n",
       "\n",
       "#sk-container-id-1 div.sk-estimator.fitted input.sk-toggleable__control:checked~label.sk-toggleable__label {\n",
       "  /* fitted */\n",
       "  background-color: var(--sklearn-color-fitted-level-2);\n",
       "}\n",
       "\n",
       "#sk-container-id-1 div.sk-label label.sk-toggleable__label,\n",
       "#sk-container-id-1 div.sk-label label {\n",
       "  /* The background is the default theme color */\n",
       "  color: var(--sklearn-color-text-on-default-background);\n",
       "}\n",
       "\n",
       "/* On hover, darken the color of the background */\n",
       "#sk-container-id-1 div.sk-label:hover label.sk-toggleable__label {\n",
       "  color: var(--sklearn-color-text);\n",
       "  background-color: var(--sklearn-color-unfitted-level-2);\n",
       "}\n",
       "\n",
       "/* Label box, darken color on hover, fitted */\n",
       "#sk-container-id-1 div.sk-label.fitted:hover label.sk-toggleable__label.fitted {\n",
       "  color: var(--sklearn-color-text);\n",
       "  background-color: var(--sklearn-color-fitted-level-2);\n",
       "}\n",
       "\n",
       "/* Estimator label */\n",
       "\n",
       "#sk-container-id-1 div.sk-label label {\n",
       "  font-family: monospace;\n",
       "  font-weight: bold;\n",
       "  display: inline-block;\n",
       "  line-height: 1.2em;\n",
       "}\n",
       "\n",
       "#sk-container-id-1 div.sk-label-container {\n",
       "  text-align: center;\n",
       "}\n",
       "\n",
       "/* Estimator-specific */\n",
       "#sk-container-id-1 div.sk-estimator {\n",
       "  font-family: monospace;\n",
       "  border: 1px dotted var(--sklearn-color-border-box);\n",
       "  border-radius: 0.25em;\n",
       "  box-sizing: border-box;\n",
       "  margin-bottom: 0.5em;\n",
       "  /* unfitted */\n",
       "  background-color: var(--sklearn-color-unfitted-level-0);\n",
       "}\n",
       "\n",
       "#sk-container-id-1 div.sk-estimator.fitted {\n",
       "  /* fitted */\n",
       "  background-color: var(--sklearn-color-fitted-level-0);\n",
       "}\n",
       "\n",
       "/* on hover */\n",
       "#sk-container-id-1 div.sk-estimator:hover {\n",
       "  /* unfitted */\n",
       "  background-color: var(--sklearn-color-unfitted-level-2);\n",
       "}\n",
       "\n",
       "#sk-container-id-1 div.sk-estimator.fitted:hover {\n",
       "  /* fitted */\n",
       "  background-color: var(--sklearn-color-fitted-level-2);\n",
       "}\n",
       "\n",
       "/* Specification for estimator info (e.g. \"i\" and \"?\") */\n",
       "\n",
       "/* Common style for \"i\" and \"?\" */\n",
       "\n",
       ".sk-estimator-doc-link,\n",
       "a:link.sk-estimator-doc-link,\n",
       "a:visited.sk-estimator-doc-link {\n",
       "  float: right;\n",
       "  font-size: smaller;\n",
       "  line-height: 1em;\n",
       "  font-family: monospace;\n",
       "  background-color: var(--sklearn-color-background);\n",
       "  border-radius: 1em;\n",
       "  height: 1em;\n",
       "  width: 1em;\n",
       "  text-decoration: none !important;\n",
       "  margin-left: 1ex;\n",
       "  /* unfitted */\n",
       "  border: var(--sklearn-color-unfitted-level-1) 1pt solid;\n",
       "  color: var(--sklearn-color-unfitted-level-1);\n",
       "}\n",
       "\n",
       ".sk-estimator-doc-link.fitted,\n",
       "a:link.sk-estimator-doc-link.fitted,\n",
       "a:visited.sk-estimator-doc-link.fitted {\n",
       "  /* fitted */\n",
       "  border: var(--sklearn-color-fitted-level-1) 1pt solid;\n",
       "  color: var(--sklearn-color-fitted-level-1);\n",
       "}\n",
       "\n",
       "/* On hover */\n",
       "div.sk-estimator:hover .sk-estimator-doc-link:hover,\n",
       ".sk-estimator-doc-link:hover,\n",
       "div.sk-label-container:hover .sk-estimator-doc-link:hover,\n",
       ".sk-estimator-doc-link:hover {\n",
       "  /* unfitted */\n",
       "  background-color: var(--sklearn-color-unfitted-level-3);\n",
       "  color: var(--sklearn-color-background);\n",
       "  text-decoration: none;\n",
       "}\n",
       "\n",
       "div.sk-estimator.fitted:hover .sk-estimator-doc-link.fitted:hover,\n",
       ".sk-estimator-doc-link.fitted:hover,\n",
       "div.sk-label-container:hover .sk-estimator-doc-link.fitted:hover,\n",
       ".sk-estimator-doc-link.fitted:hover {\n",
       "  /* fitted */\n",
       "  background-color: var(--sklearn-color-fitted-level-3);\n",
       "  color: var(--sklearn-color-background);\n",
       "  text-decoration: none;\n",
       "}\n",
       "\n",
       "/* Span, style for the box shown on hovering the info icon */\n",
       ".sk-estimator-doc-link span {\n",
       "  display: none;\n",
       "  z-index: 9999;\n",
       "  position: relative;\n",
       "  font-weight: normal;\n",
       "  right: .2ex;\n",
       "  padding: .5ex;\n",
       "  margin: .5ex;\n",
       "  width: min-content;\n",
       "  min-width: 20ex;\n",
       "  max-width: 50ex;\n",
       "  color: var(--sklearn-color-text);\n",
       "  box-shadow: 2pt 2pt 4pt #999;\n",
       "  /* unfitted */\n",
       "  background: var(--sklearn-color-unfitted-level-0);\n",
       "  border: .5pt solid var(--sklearn-color-unfitted-level-3);\n",
       "}\n",
       "\n",
       ".sk-estimator-doc-link.fitted span {\n",
       "  /* fitted */\n",
       "  background: var(--sklearn-color-fitted-level-0);\n",
       "  border: var(--sklearn-color-fitted-level-3);\n",
       "}\n",
       "\n",
       ".sk-estimator-doc-link:hover span {\n",
       "  display: block;\n",
       "}\n",
       "\n",
       "/* \"?\"-specific style due to the `<a>` HTML tag */\n",
       "\n",
       "#sk-container-id-1 a.estimator_doc_link {\n",
       "  float: right;\n",
       "  font-size: 1rem;\n",
       "  line-height: 1em;\n",
       "  font-family: monospace;\n",
       "  background-color: var(--sklearn-color-background);\n",
       "  border-radius: 1rem;\n",
       "  height: 1rem;\n",
       "  width: 1rem;\n",
       "  text-decoration: none;\n",
       "  /* unfitted */\n",
       "  color: var(--sklearn-color-unfitted-level-1);\n",
       "  border: var(--sklearn-color-unfitted-level-1) 1pt solid;\n",
       "}\n",
       "\n",
       "#sk-container-id-1 a.estimator_doc_link.fitted {\n",
       "  /* fitted */\n",
       "  border: var(--sklearn-color-fitted-level-1) 1pt solid;\n",
       "  color: var(--sklearn-color-fitted-level-1);\n",
       "}\n",
       "\n",
       "/* On hover */\n",
       "#sk-container-id-1 a.estimator_doc_link:hover {\n",
       "  /* unfitted */\n",
       "  background-color: var(--sklearn-color-unfitted-level-3);\n",
       "  color: var(--sklearn-color-background);\n",
       "  text-decoration: none;\n",
       "}\n",
       "\n",
       "#sk-container-id-1 a.estimator_doc_link.fitted:hover {\n",
       "  /* fitted */\n",
       "  background-color: var(--sklearn-color-fitted-level-3);\n",
       "}\n",
       "</style><div id=\"sk-container-id-1\" class=\"sk-top-container\"><div class=\"sk-text-repr-fallback\"><pre>DecisionTreeRegressor(random_state=1)</pre><b>In a Jupyter environment, please rerun this cell to show the HTML representation or trust the notebook. <br />On GitHub, the HTML representation is unable to render, please try loading this page with nbviewer.org.</b></div><div class=\"sk-container\" hidden><div class=\"sk-item\"><div class=\"sk-estimator fitted sk-toggleable\"><input class=\"sk-toggleable__control sk-hidden--visually\" id=\"sk-estimator-id-1\" type=\"checkbox\" checked><label for=\"sk-estimator-id-1\" class=\"sk-toggleable__label fitted sk-toggleable__label-arrow fitted\">&nbsp;&nbsp;DecisionTreeRegressor<a class=\"sk-estimator-doc-link fitted\" rel=\"noreferrer\" target=\"_blank\" href=\"https://scikit-learn.org/1.5/modules/generated/sklearn.tree.DecisionTreeRegressor.html\">?<span>Documentation for DecisionTreeRegressor</span></a><span class=\"sk-estimator-doc-link fitted\">i<span>Fitted</span></span></label><div class=\"sk-toggleable__content fitted\"><pre>DecisionTreeRegressor(random_state=1)</pre></div> </div></div></div></div>"
      ],
      "text/plain": [
       "DecisionTreeRegressor(random_state=1)"
      ]
     },
     "execution_count": 20,
     "metadata": {},
     "output_type": "execute_result"
    }
   ],
   "source": [
    "from sklearn.tree import DecisionTreeRegressor\n",
    "# Define model\n",
    "melbourne_model = DecisionTreeRegressor(random_state=1)\n",
    "# Fit model\n",
    "melbourne_model.fit(train_X, train_y)"
   ]
  },
  {
   "cell_type": "code",
   "execution_count": 21,
   "id": "974dda59-4adf-4ebc-bc57-285926a3d499",
   "metadata": {},
   "outputs": [
    {
     "name": "stdout",
     "output_type": "stream",
     "text": [
      "Error on training set: 225.66\n",
      "Error on validation set: 246229.42\n"
     ]
    }
   ],
   "source": [
    "from sklearn.metrics import mean_absolute_error\n",
    "\n",
    "train_predictions = melbourne_model.predict(train_X)\n",
    "val_predictions = melbourne_model.predict(val_X)\n",
    "\n",
    "train_error = mean_absolute_error(train_y, train_predictions)\n",
    "val_error = mean_absolute_error(val_y, val_predictions)\n",
    "\n",
    "print('Error on training set: ' \"{:.2f}\".format(train_error))\n",
    "print('Error on validation set: ' \"{:.2f}\".format(val_error))\n",
    "\n",
    "#Mean absolute error (MAE) = Average[Mod(y-y_prediction)]"
   ]
  },
  {
   "attachments": {
    "7f5875fd-71a7-4e0d-aefc-44b2b5e1d5b4.png": {
     "image/png": "[encoded data removed]"
    },
    "c49271ce-72a8-4765-92d5-4a33ec15498e.png": {
     "image/png": "[encoded data removed]"
    }
   },
   "cell_type": "markdown",
   "id": "3a9b642c-a0b0-48dc-9156-9192978043a6",
   "metadata": {},
   "source": [
    " The decision tree model has many options, most important being the tree's depth, which is measure of how many splits it makes before coming to prediction. As the number of leaves (bottom most line) fewer houses are present in each leaf. This makes model overfit on the traing data and underfit on the test data.\n",
    "![decision-tree.png](attachment:c49271ce-72a8-4765-92d5-4a33ec15498e.png)<!--  -->\n",
    "\n",
    "![overfitting.png](attachment:7f5875fd-71a7-4e0d-aefc-44b2b5e1d5b4.png)\n",
    "\n",
    "So, we need to find an optimal number of leaves (layers) in the model."
   ]
  },
  {
   "cell_type": "markdown",
   "id": "ca17c19b-1a96-4a62-a9fa-df2d5d5b3cc5",
   "metadata": {},
   "source": [
    "\n",
    "- __Overfitting:__  capturing spurious patterns that won't recur in the future, leading to less accurate predictions, or\n",
    "- __Underfitting:__  failing to capture relevant patterns, again leading to less accurate predictions.\n"
   ]
  },
  {
   "cell_type": "code",
   "execution_count": 24,
   "id": "c2dfd3b7-640c-4ca7-98c6-cab4b45a0772",
   "metadata": {},
   "outputs": [],
   "source": [
    "def get_mae(max_leaf_nodes, train_X, val_X, train_y, val_y):\n",
    "    model = DecisionTreeRegressor(max_leaf_nodes=max_leaf_nodes, random_state=0)\n",
    "    model.fit(train_X, train_y)\n",
    "    preds_val = model.predict(val_X)\n",
    "    mae = mean_absolute_error(val_y, preds_val)\n",
    "    return(mae)\n"
   ]
  },
  {
   "cell_type": "code",
   "execution_count": 25,
   "id": "684ac26e-e727-49c2-9a31-73f14d4b34f6",
   "metadata": {},
   "outputs": [
    {
     "data": {
      "text/plain": [
       "500"
      ]
     },
     "execution_count": 25,
     "metadata": {},
     "output_type": "execute_result"
    }
   ],
   "source": [
    "# compare MAE with differing values of max_leaf_nodes\n",
    "candidate_max_leaf_nodes = [5, 25, 50, 100, 250, 500,2000,5000]\n",
    "scores = {leaf_size: get_mae(leaf_size, train_X, val_X, train_y, val_y) for leaf_size in candidate_max_leaf_nodes}\n",
    "best_tree_size = min(scores, key=scores.get)\n",
    "\n",
    "best_tree_size "
   ]
  },
  {
   "cell_type": "code",
   "execution_count": 26,
   "id": "cd6b267b-8459-4666-bb56-1caf2dfa0783",
   "metadata": {},
   "outputs": [
    {
     "data": {
      "text/plain": [
       "133101.7203189413"
      ]
     },
     "execution_count": 26,
     "metadata": {},
     "output_type": "execute_result"
    }
   ],
   "source": [
    "# Fit the model with best_tree_size. Fill in argument to make optimal size\n",
    "final_model = DecisionTreeRegressor(max_leaf_nodes=best_tree_size, random_state=1)\n",
    "\n",
    "# fit the final model\n",
    "final_model.fit(X, y)\n",
    "y_predictions_final = final_model.predict(X)\n",
    "final_mae = mean_absolute_error(y, y_predictions_final)\n",
    "final_mae"
   ]
  },
  {
   "cell_type": "code",
   "execution_count": null,
   "id": "63c96e28-102b-4849-8740-19ad77ed155e",
   "metadata": {},
   "outputs": [],
   "source": []
  },
  {
   "cell_type": "markdown",
   "id": "5a78fcdb-71ba-4065-a01c-8fd92340af5e",
   "metadata": {},
   "source": [
    "# Using Random Forests Model\n",
    "\n",
    "Decision Tree models have inherent disadvantage that choosing deep tree models (lot of leaves) results in overfitting and shallow leaves with underfitted data.\n",
    "\n",
    "This is where Random Forests are better because:\n",
    "- Random forest uses many trees and makes predictions by averaging the prediction from each component tree.\n",
    "- It has better predictive accuracy than single decision tree\n",
    "- Works well with default parameters"
   ]
  },
  {
   "cell_type": "code",
   "execution_count": 31,
   "id": "333dd717-bf7e-4704-829f-27005117651d",
   "metadata": {},
   "outputs": [
    {
     "name": "stdout",
     "output_type": "stream",
     "text": [
      "Validation MAE for Random Forest Model: 177186.7634377009\n"
     ]
    }
   ],
   "source": [
    "from sklearn.ensemble import RandomForestRegressor\n",
    "\n",
    "rf_model = RandomForestRegressor()\n",
    "\n",
    "# fit your model\n",
    "rf_model.fit(train_X, train_y)\n",
    "\n",
    "# Calculate the mean absolute error of your Random Forest model on the validation data\n",
    "rf_val_predictions = rf_model.predict(val_X)\n",
    "rf_val_mae = mean_absolute_error(rf_val_predictions, val_y)\n",
    "\n",
    "print(\"Validation MAE for Random Forest Model: {}\".format(rf_val_mae))"
   ]
  },
  {
   "cell_type": "markdown",
   "id": "9cf10b61-b03b-4405-85ff-31a93f3062ed",
   "metadata": {},
   "source": [
    "## Choosing the Best Model"
   ]
  },
  {
   "cell_type": "code",
   "execution_count": 63,
   "id": "7e497c3c-105d-42d3-a07d-d72937cef8a8",
   "metadata": {},
   "outputs": [
    {
     "name": "stdout",
     "output_type": "stream",
     "text": [
      "6665 6665 2222 2222\n",
      "Model 1 MAE: 179355\n",
      "Model 2 MAE: 177195\n",
      "Model 3 MAE: 177261\n",
      "Model 4 MAE: 184390\n",
      "Model 5 MAE: 213219\n"
     ]
    }
   ],
   "source": [
    "# Define several RandomForestRegressor models and score them\n",
    "model_1 = RandomForestRegressor(n_estimators=50, random_state=0)\n",
    "model_2 = RandomForestRegressor(n_estimators=100, random_state=0)\n",
    "model_3 = RandomForestRegressor(n_estimators=100, criterion='absolute_error', random_state=0)\n",
    "model_4 = RandomForestRegressor(n_estimators=200, min_samples_split=20, random_state=0)\n",
    "model_5 = RandomForestRegressor(n_estimators=100, max_depth=7, random_state=0)\n",
    "\n",
    "models = [model_1, model_2, model_3, model_4, model_5]\n",
    "print(len(train_X),len(train_y),len(val_X),len(val_y))\n",
    "# Function for comparing different models\n",
    "def score_model(model, X_t=train_X, X_v=val_X, y_t=train_y, y_v=val_y):\n",
    "    model.fit(X_t, y_t)\n",
    "    preds = model.predict(X_v)\n",
    "    return mean_absolute_error(y_v, preds)\n",
    "\n",
    "for i in range(0, len(models)):\n",
    "    mae = score_model(models[i])\n",
    "    print(\"Model %d MAE: %d\" % (i+1, mae))\n",
    "\n",
    "\n",
    "#ary = models.to_array()\n",
    "#best_model = np.where(mae==np.min(mae.to_array())"
   ]
  },
  {
   "cell_type": "code",
   "execution_count": 79,
   "id": "1a9f0fa4-44d9-42af-a51a-a0263067b6a2",
   "metadata": {},
   "outputs": [],
   "source": [
    "#looking at the MAE values choose the best model\n",
    "best_model = model_2\n",
    "my_model = best_model"
   ]
  },
  {
   "cell_type": "code",
   "execution_count": 95,
   "id": "13200692-c5ed-4bb7-835f-a9bf1e8daee1",
   "metadata": {},
   "outputs": [
    {
     "name": "stdout",
     "output_type": "stream",
     "text": [
      "Index([17359, 17097,  5265, 21286,  9450, 23809, 27724, 11376,  2235, 34372,\n",
      "       ...\n",
      "       23416,  1489,  6452, 10302, 11062, 19160,  4891, 15434,   724, 22917],\n",
      "      dtype='int64', length=2222) 8887\n"
     ]
    }
   ],
   "source": [
    "# Fit the model to the training data\n",
    "my_model.fit(train_X, train_y)\n",
    "\n",
    "# Generate test predictions\n",
    "preds_test = my_model.predict(val_X)\n",
    "\n",
    "print(val_X.index, len(X))\n",
    "# Save predictions in format used for competition scoring\n",
    "output = pd.DataFrame({'Id': val_X.index,\n",
    "                       'SalePrice': preds_test})\n",
    "output.to_csv('submission.csv', index=False)"
   ]
  },
  {
   "cell_type": "markdown",
   "id": "14a9672c-a05c-4d22-b3c1-400897d6f113",
   "metadata": {},
   "source": [
    "# Handling Missing Value\n",
    "In the code cells below I have implemented these three approaches. But before choosing any look at the data in hand.\n",
    "- Approach 1: drop the columns with no value\n",
    "- Approach 2: Imputation (replace missing value with some number; mean of column)\n",
    "- Approach 3: Imputate and keep but track which rows values have been missing"
   ]
  },
  {
   "cell_type": "code",
   "execution_count": 94,
   "id": "495d66cc-95e6-4d88-a651-9d61a0dcee83",
   "metadata": {},
   "outputs": [
    {
     "name": "stdout",
     "output_type": "stream",
     "text": [
      "Index(['Suburb', 'Address', 'Rooms', 'Type', 'Price', 'Method', 'SellerG',\n",
      "       'Date', 'Distance', 'Postcode', 'Bedroom2', 'Bathroom', 'Car',\n",
      "       'Landsize', 'BuildingArea', 'YearBuilt', 'CouncilArea', 'Lattitude',\n",
      "       'Longtitude', 'Regionname', 'Propertycount'],\n",
      "      dtype='object')\n"
     ]
    }
   ],
   "source": [
    "import pandas as pd\n",
    "from sklearn.metrics import mean_absolute_error\n",
    "# Load data\n",
    "melbourne_file_path = '/home/gitika/My_Home/Python_ML_CNN/Regression/Melbourne_housing_FULL_with_missing.csv'\n",
    "# read the data and store data in DataFrame titled melbourne_data\n",
    "melbourne_data = pd.read_csv(melbourne_file_path) \n",
    "# print a summary of the data in Melbourne data\n",
    "melbourne_data.describe()\n",
    "\n",
    "#read the title (features) of the data\n",
    "print(melbourne_data.columns)"
   ]
  },
  {
   "cell_type": "code",
   "execution_count": 96,
   "id": "1c7863ec-1fe8-4ae9-9e22-bd69de68f471",
   "metadata": {},
   "outputs": [
    {
     "data": {
      "text/html": [
       "<div>\n",
       "<style scoped>\n",
       "    .dataframe tbody tr th:only-of-type {\n",
       "        vertical-align: middle;\n",
       "    }\n",
       "\n",
       "    .dataframe tbody tr th {\n",
       "        vertical-align: top;\n",
       "    }\n",
       "\n",
       "    .dataframe thead th {\n",
       "        text-align: right;\n",
       "    }\n",
       "</style>\n",
       "<table border=\"1\" class=\"dataframe\">\n",
       "  <thead>\n",
       "    <tr style=\"text-align: right;\">\n",
       "      <th></th>\n",
       "      <th>Rooms</th>\n",
       "      <th>Bathroom</th>\n",
       "      <th>Landsize</th>\n",
       "      <th>BuildingArea</th>\n",
       "      <th>YearBuilt</th>\n",
       "      <th>Lattitude</th>\n",
       "      <th>Longtitude</th>\n",
       "    </tr>\n",
       "  </thead>\n",
       "  <tbody>\n",
       "    <tr>\n",
       "      <th>2</th>\n",
       "      <td>2.0</td>\n",
       "      <td>1.0</td>\n",
       "      <td>156.0</td>\n",
       "      <td>79.0</td>\n",
       "      <td>1900.0</td>\n",
       "      <td>-37.8079</td>\n",
       "      <td>144.9934</td>\n",
       "    </tr>\n",
       "    <tr>\n",
       "      <th>4</th>\n",
       "      <td>3.0</td>\n",
       "      <td>2.0</td>\n",
       "      <td>134.0</td>\n",
       "      <td>150.0</td>\n",
       "      <td>1900.0</td>\n",
       "      <td>-37.8093</td>\n",
       "      <td>144.9944</td>\n",
       "    </tr>\n",
       "    <tr>\n",
       "      <th>11</th>\n",
       "      <td>3.0</td>\n",
       "      <td>2.0</td>\n",
       "      <td>245.0</td>\n",
       "      <td>210.0</td>\n",
       "      <td>1910.0</td>\n",
       "      <td>-37.8024</td>\n",
       "      <td>144.9993</td>\n",
       "    </tr>\n",
       "    <tr>\n",
       "      <th>14</th>\n",
       "      <td>2.0</td>\n",
       "      <td>1.0</td>\n",
       "      <td>256.0</td>\n",
       "      <td>107.0</td>\n",
       "      <td>1890.0</td>\n",
       "      <td>-37.8060</td>\n",
       "      <td>144.9954</td>\n",
       "    </tr>\n",
       "    <tr>\n",
       "      <th>18</th>\n",
       "      <td>2.0</td>\n",
       "      <td>1.0</td>\n",
       "      <td>220.0</td>\n",
       "      <td>75.0</td>\n",
       "      <td>1900.0</td>\n",
       "      <td>-37.8010</td>\n",
       "      <td>144.9989</td>\n",
       "    </tr>\n",
       "  </tbody>\n",
       "</table>\n",
       "</div>"
      ],
      "text/plain": [
       "    Rooms  Bathroom  Landsize  BuildingArea  YearBuilt  Lattitude  Longtitude\n",
       "2     2.0       1.0     156.0          79.0     1900.0   -37.8079    144.9934\n",
       "4     3.0       2.0     134.0         150.0     1900.0   -37.8093    144.9944\n",
       "11    3.0       2.0     245.0         210.0     1910.0   -37.8024    144.9993\n",
       "14    2.0       1.0     256.0         107.0     1890.0   -37.8060    144.9954\n",
       "18    2.0       1.0     220.0          75.0     1900.0   -37.8010    144.9989"
      ]
     },
     "execution_count": 96,
     "metadata": {},
     "output_type": "execute_result"
    }
   ],
   "source": [
    "# Filter rows with missing price values\n",
    "filtered_melbourne_data = melbourne_data.dropna(axis=0)\n",
    "\n",
    "# Choose target and input features\n",
    "y = filtered_melbourne_data.Price\n",
    "\n",
    "melbourne_features = ['Rooms', 'Bathroom', 'Landsize', 'BuildingArea', \n",
    "                        'YearBuilt', 'Lattitude', 'Longtitude']\n",
    "X = filtered_melbourne_data[melbourne_features]\n",
    "X.head()"
   ]
  },
  {
   "cell_type": "code",
   "execution_count": 98,
   "id": "fbe8b910-4a92-4f28-b0a6-9be63f9cb804",
   "metadata": {},
   "outputs": [
    {
     "name": "stdout",
     "output_type": "stream",
     "text": [
      "Columns with missing values: ['Rooms', 'Price', 'Distance', 'Postcode', 'Bedroom2', 'Bathroom', 'Car', 'Landsize', 'BuildingArea', 'YearBuilt', 'CouncilArea', 'Lattitude', 'Longtitude', 'Regionname', 'Propertycount']\n",
      "Rooms                4\n",
      "Price             7610\n",
      "Distance             1\n",
      "Postcode             1\n",
      "Bedroom2          8217\n",
      "Bathroom          8226\n",
      "Car               8728\n",
      "Landsize         11810\n",
      "BuildingArea     21115\n",
      "YearBuilt        19306\n",
      "CouncilArea          3\n",
      "Lattitude         7976\n",
      "Longtitude        7976\n",
      "Regionname           3\n",
      "Propertycount        3\n",
      "dtype: int64\n"
     ]
    }
   ],
   "source": [
    "# Get names of columns with missing values\n",
    "cols_with_missing = [col for col in melbourne_data.columns\n",
    "                     if melbourne_data[col].isnull().any()]\n",
    "print('Columns with missing values: {}'.format(cols_with_missing))\n",
    "\n",
    "# Number of missing values in each column of training data\n",
    "missing_val_count_by_column = (melbourne_data.isnull().sum())\n",
    "print(missing_val_count_by_column[missing_val_count_by_column > 0])"
   ]
  },
  {
   "cell_type": "code",
   "execution_count": 100,
   "id": "b4c32d38-3de7-442d-b5ef-0d9f80b22e33",
   "metadata": {},
   "outputs": [],
   "source": [
    "from sklearn.model_selection import train_test_split\n",
    "\n",
    "train_X, val_X, train_y, val_y = train_test_split(X, y, random_state=1)\n",
    "#train_X, val_X, train_y, val_Y = train_test_split(X, y, train_size=0.8, test_size=0.2,random_state=0)"
   ]
  },
  {
   "cell_type": "code",
   "execution_count": 102,
   "id": "a63fdd2d-8d86-43b9-a7e2-f8ca9c8febd8",
   "metadata": {},
   "outputs": [],
   "source": [
    "from sklearn.ensemble import RandomForestRegressor\n",
    "# Function for scoring each approach\n",
    "def score_dataset(train_X, val_X, train_y, val_y):\n",
    "    model = RandomForestRegressor(n_estimators=10, random_state=0)\n",
    "    model.fit(train_X,train_y)\n",
    "    preds = model.predict(val_X)\n",
    "    return mean_absolute_error(val_y, preds)"
   ]
  },
  {
   "cell_type": "code",
   "execution_count": 104,
   "id": "e8b65918-ef65-4736-bcba-ca47e533b2a0",
   "metadata": {},
   "outputs": [
    {
     "name": "stdout",
     "output_type": "stream",
     "text": [
      "Columns with missing values: []\n",
      "MAE from Approach 1 (Drop columns with missing values):\n",
      "184616.92448244823\n"
     ]
    }
   ],
   "source": [
    "#========= Approach 1: drop the columns=================================================\n",
    "\"\"\"\n",
    "In this approach the target feature should not have missing value. So in practice this approach can be used but if target feature has \n",
    "Nan then this code will not work. For this data set we have already deleted rows with Nan values. So all approaches will give same MAE. \n",
    "\"\"\"\n",
    "# Get names of columns with missing values\n",
    "cols_with_missing = [col for col in train_X.columns\n",
    "                     if train_X[col].isnull().any()]\n",
    "print('Columns with missing values: {}'.format(cols_with_missing))\n",
    "# Drop columns in training and validation data\n",
    "reduced_train_X = train_X.drop(cols_with_missing, axis=1)\n",
    "reduced_val_X = val_X.drop(cols_with_missing, axis=1)\n",
    "\n",
    "print(\"MAE from Approach 1 (Drop columns with missing values):\")\n",
    "print(score_dataset(reduced_train_X, reduced_val_X, train_y, val_y))\n",
    "\n",
    "\n",
    "\n"
   ]
  },
  {
   "cell_type": "code",
   "execution_count": 106,
   "id": "29f65b11-75d4-4b0c-9378-25af6a6ef3c8",
   "metadata": {},
   "outputs": [
    {
     "name": "stdout",
     "output_type": "stream",
     "text": [
      "MAE from Approach 2 (Imputation):\n",
      "184616.92448244823\n"
     ]
    }
   ],
   "source": [
    "#======= Approach 2: imputation--> replace missing value with mean value along each column using SimpleImulater==================\n",
    "\n",
    "from sklearn.impute import SimpleImputer\n",
    "\n",
    "# Imputation\n",
    "my_imputer = SimpleImputer()\n",
    "imputed_train_X = pd.DataFrame(my_imputer.fit_transform(train_X))\n",
    "imputed_val_X = pd.DataFrame(my_imputer.transform(val_X))\n",
    "\n",
    "#Imputation removed column names; put them back\n",
    "imputed_train_X.columns = train_X.columns\n",
    "imputed_val_X.columns = val_X.columns\n",
    "\n",
    "print(\"MAE from Approach 2 (Imputation):\")\n",
    "print(score_dataset(imputed_train_X, imputed_val_X, train_y, val_y))"
   ]
  },
  {
   "cell_type": "code",
   "execution_count": 108,
   "id": "72b9841e-4257-4f76-8bcf-20ed92f2ceee",
   "metadata": {},
   "outputs": [
    {
     "name": "stdout",
     "output_type": "stream",
     "text": [
      "MAE from Approach 3 (An Extension to Imputation):\n",
      "184616.92448244823\n"
     ]
    }
   ],
   "source": [
    "#======= Approach 3: imputation+missing column informations==================\n",
    "\n",
    "# Make copy to avoid changing original data (when imputing)\n",
    "train_X_plus = train_X.copy()\n",
    "val_X_plus = val_X.copy()\n",
    "\n",
    "# Make new columns indicating what will be imputed\n",
    "for col in cols_with_missing:\n",
    "    train_X_plus[col + '_was_missing'] = train_X_plus[col].isnull()\n",
    "    val_X_plus[col + '_was_missing'] = val_X_plus[col].isnull()\n",
    "\n",
    "# Imputation\n",
    "my_imputer = SimpleImputer()\n",
    "imputed_train_X_plus = pd.DataFrame(my_imputer.fit_transform(train_X_plus))\n",
    "imputed_val_X_plus = pd.DataFrame(my_imputer.transform(val_X_plus))\n",
    "\n",
    "# Imputation removed column names; put them back\n",
    "imputed_train_X_plus.columns = train_X_plus.columns\n",
    "imputed_val_X_plus.columns = val_X_plus.columns\n",
    "\n",
    "print(\"MAE from Approach 3 (An Extension to Imputation):\")\n",
    "print(score_dataset(imputed_train_X_plus, imputed_val_X_plus, train_y, val_y))\n"
   ]
  },
  {
   "cell_type": "code",
   "execution_count": 110,
   "id": "ed0ff78d-58c3-4eec-9adc-ab48a091d69f",
   "metadata": {},
   "outputs": [
    {
     "name": "stdout",
     "output_type": "stream",
     "text": [
      "(6664, 7)\n",
      "Series([], dtype: int64)\n"
     ]
    }
   ],
   "source": [
    "# Check the number of cols with missing value\n",
    "# Shape of training data (num_rows, num_columns)\n",
    "print(train_X.shape)\n",
    "\n",
    "# Number of missing values in each column of training data\n",
    "missing_val_count_by_column = (train_X.isnull().sum())\n",
    "print(missing_val_count_by_column[missing_val_count_by_column > 0])\n"
   ]
  },
  {
   "cell_type": "code",
   "execution_count": null,
   "id": "72903ffd-95ab-4c92-aa69-dc71f3433157",
   "metadata": {},
   "outputs": [],
   "source": []
  }
 ],
 "metadata": {
  "kernelspec": {
   "display_name": "Python [conda env:base] *",
   "language": "python",
   "name": "conda-base-py"
  },
  "language_info": {
   "codemirror_mode": {
    "name": "ipython",
    "version": 3
   },
   "file_extension": ".py",
   "mimetype": "text/x-python",
   "name": "python",
   "nbconvert_exporter": "python",
   "pygments_lexer": "ipython3",
   "version": "3.12.7"
  }
 },
 "nbformat": 4,
 "nbformat_minor": 5
}
